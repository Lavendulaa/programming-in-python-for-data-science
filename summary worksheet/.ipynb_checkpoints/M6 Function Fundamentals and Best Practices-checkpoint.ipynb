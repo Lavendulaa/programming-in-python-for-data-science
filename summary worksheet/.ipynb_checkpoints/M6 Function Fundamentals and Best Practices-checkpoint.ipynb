{
 "cells": [
  {
   "cell_type": "markdown",
   "metadata": {},
   "source": [
    "SUMMARY\n",
    "Evaluate the readability, complexity and performance of a function.\n",
    "Write docstrings for functions following the NumPy/SciPy format.\n",
    "Write comments within a function to improve readability.\n",
    "Write and design functions with default arguments.\n",
    "Explain the importance of scoping and environments in Python as they relate to functions.\n",
    "Formulate test cases to prove a function design specification.\n",
    "Use assert statements to formulate a test case to prove a function design specification.\n",
    "Use test-driven development principles to define a function that accepts parameters, returns values and passes all tests.\n",
    "Handle errors gracefully via exception handling."
   ]
  },
  {
   "cell_type": "markdown",
   "metadata": {},
   "source": [
    "In the last module, we were introduced to the DRY principle and how creating functions helps comply with it.\n",
    "\n",
    "Let’s do a little bit of a recap.\n",
    "\n",
    "DRY stands for Don’t Repeat Yourself.\n",
    "\n",
    "We can avoid writing repetitive code by creating a function that takes in arguments, performs some operations, and returns the results.\n",
    "\n",
    "The example in Module 5 converted code that creates a list of squared elements from an existing list of numbers into a function."
   ]
  },
  {
   "cell_type": "code",
   "execution_count": 2,
   "metadata": {},
   "outputs": [
    {
     "data": {
      "text/plain": [
       "[4, 9, 25]"
      ]
     },
     "execution_count": 2,
     "metadata": {},
     "output_type": "execute_result"
    }
   ],
   "source": [
    "#example loop\n",
    "numbers = [2, 3, 5]\n",
    "squared = list()\n",
    "for number in numbers: \n",
    "    squared.append(number ** 2)\n",
    "squared\n"
   ]
  },
  {
   "cell_type": "code",
   "execution_count": 3,
   "metadata": {},
   "outputs": [
    {
     "data": {
      "text/plain": [
       "[4, 9, 25]"
      ]
     },
     "execution_count": 3,
     "metadata": {},
     "output_type": "execute_result"
    }
   ],
   "source": [
    "#ex1 loop as function\n",
    "def squares_a_list(numerical_list):#function name and agruement\n",
    "    new_squared_list = list() #initialize output list\n",
    "    for number in numerical_list:\n",
    "        new_squared_list.append(number ** 2)\n",
    "    return new_squared_list\n",
    "squares_a_list(numbers) #function call"
   ]
  },
  {
   "cell_type": "markdown",
   "metadata": {},
   "source": [
    "This function gave us the ability to do the same operation for multiple lists without having to rewrite any code and just calling the function."
   ]
  },
  {
   "cell_type": "code",
   "execution_count": 5,
   "metadata": {},
   "outputs": [],
   "source": [
    "larger_numbers = [5, 44, 55, 23, 11]\n",
    "promoted_numbers = [73, 84, 95]\n",
    "executive_numbers = [100, 121, 250, 103, 183, 222, 214]\n",
    "\n"
   ]
  },
  {
   "cell_type": "code",
   "execution_count": 6,
   "metadata": {},
   "outputs": [
    {
     "data": {
      "text/plain": [
       "[25, 1936, 3025, 529, 121]"
      ]
     },
     "execution_count": 6,
     "metadata": {},
     "output_type": "execute_result"
    }
   ],
   "source": [
    "squares_a_list(larger_numbers)"
   ]
  },
  {
   "cell_type": "code",
   "execution_count": 7,
   "metadata": {},
   "outputs": [
    {
     "data": {
      "text/plain": [
       "[5329, 7056, 9025]"
      ]
     },
     "execution_count": 7,
     "metadata": {},
     "output_type": "execute_result"
    }
   ],
   "source": [
    "squares_a_list(promoted_numbers)"
   ]
  },
  {
   "cell_type": "code",
   "execution_count": 8,
   "metadata": {},
   "outputs": [
    {
     "data": {
      "text/plain": [
       "[10000, 14641, 62500, 10609, 33489, 49284, 45796]"
      ]
     },
     "execution_count": 8,
     "metadata": {},
     "output_type": "execute_result"
    }
   ],
   "source": [
    "squares_a_list(executive_numbers)"
   ]
  },
  {
   "cell_type": "markdown",
   "metadata": {},
   "source": [
    "It’s important to know what exactly is going on inside and outside of a function.\n",
    "\n",
    "In our function squares_a_list() we saw that we created a variable named new_squared_list.\n",
    "\n",
    "We can print this variable and watch all the elements be appended to it as we loop through the input list.\n",
    "\n",
    "But what happens if we try and print this variable outside of the function?\n",
    "\n",
    "Yikes! Where did new_squared_list go?\n",
    "\n",
    "It doesn’t seem to exist! That’s not entirely true.\n",
    "\n",
    "In Python, new_squared_list is something we call a local variable.\n",
    "\n",
    "Local variables are any objects that have been created within a function and only exist inside the function where they are made.\n",
    "\n",
    "Code within a function is described as a local environment.\n",
    "\n",
    "Since we called new_squared_list outside of the function’s body, Python fails to recognize it."
   ]
  },
  {
   "cell_type": "code",
   "execution_count": 10,
   "metadata": {},
   "outputs": [],
   "source": [
    "def squares_a_list(numerical_list):\n",
    "    new_squared_list = list()\n",
    "    for number in numerical_list:\n",
    "        new_squared_list.append(number ** 2)\n",
    "        print(new_squared_list)\n",
    "    return new_squared_list"
   ]
  },
  {
   "cell_type": "code",
   "execution_count": 11,
   "metadata": {},
   "outputs": [
    {
     "name": "stdout",
     "output_type": "stream",
     "text": [
      "[4]\n",
      "[4, 9]\n",
      "[4, 9, 25]\n"
     ]
    },
    {
     "data": {
      "text/plain": [
       "[4, 9, 25]"
      ]
     },
     "execution_count": 11,
     "metadata": {},
     "output_type": "execute_result"
    }
   ],
   "source": [
    "squares_a_list(numbers)"
   ]
  },
  {
   "cell_type": "code",
   "execution_count": 12,
   "metadata": {},
   "outputs": [
    {
     "ename": "NameError",
     "evalue": "name 'new_squared_list' is not defined",
     "output_type": "error",
     "traceback": [
      "\u001b[1;31m---------------------------------------------------------------------------\u001b[0m",
      "\u001b[1;31mNameError\u001b[0m                                 Traceback (most recent call last)",
      "\u001b[1;32m<ipython-input-12-fb7ff3ede417>\u001b[0m in \u001b[0;36m<module>\u001b[1;34m\u001b[0m\n\u001b[1;32m----> 1\u001b[1;33m \u001b[0mnew_squared_list\u001b[0m\u001b[1;33m\u001b[0m\u001b[1;33m\u001b[0m\u001b[0m\n\u001b[0m",
      "\u001b[1;31mNameError\u001b[0m: name 'new_squared_list' is not defined"
     ]
    }
   ],
   "source": [
    "new_squared_list"
   ]
  },
  {
   "cell_type": "markdown",
   "metadata": {},
   "source": [
    "Let’s talk more about function arguments.\n",
    "\n",
    "Arguments play a paramount role when it comes to adhering to the DRY principle as well as adding flexibility to your code.\n",
    "\n",
    "Let’s bring back the function we made named squares_a_list().\n",
    "\n",
    "The reason we made this function in the first place was to DRY out our code and avoid repeating the same for loop for any additional list we wished to operate on.\n",
    "\n",
    "What happens now if we no longer wanted to square a number but calculate a specified exponential of each element, perhaps (n^3), or (n^4)?\n",
    "\n",
    "Would we need a new function?\n",
    "\n",
    "We could make a similar new function for cubing the numbers.\n",
    "\n",
    "But this feels repetitive.\n",
    "\n",
    "\n",
    "A better solution that adheres to the DRY principle is to tweak our original function but add an additional argument.\n",
    "\n",
    "Take a look at exponent_a_list() which now takes 2 arguments; the original numerical_list, and now a new argument named exponent.\n",
    "\n",
    "This gives us a choice of the exponent. We could use the same function now for any exponent we want instead of making a new function for each.\n",
    "\n",
    "This makes sense to do if we foresee needing this versatility, else the additional argument isn’t necessary."
   ]
  },
  {
   "cell_type": "code",
   "execution_count": 14,
   "metadata": {},
   "outputs": [],
   "source": [
    "def exponent_a_list(numerical_list, exponent):\n",
    "    new_exponent_list = list()\n",
    "\n",
    "    for number in numerical_list:\n",
    "        new_exponent_list.append(number ** exponent)\n",
    "\n",
    "    return new_exponent_list"
   ]
  },
  {
   "cell_type": "code",
   "execution_count": 13,
   "metadata": {},
   "outputs": [
    {
     "ename": "NameError",
     "evalue": "name 'exponent_a_list' is not defined",
     "output_type": "error",
     "traceback": [
      "\u001b[1;31m---------------------------------------------------------------------------\u001b[0m",
      "\u001b[1;31mNameError\u001b[0m                                 Traceback (most recent call last)",
      "\u001b[1;32m<ipython-input-13-456f0142b562>\u001b[0m in \u001b[0;36m<module>\u001b[1;34m\u001b[0m\n\u001b[0;32m      1\u001b[0m \u001b[0mnumbers\u001b[0m \u001b[1;33m=\u001b[0m \u001b[1;33m[\u001b[0m\u001b[1;36m2\u001b[0m\u001b[1;33m,\u001b[0m \u001b[1;36m3\u001b[0m\u001b[1;33m,\u001b[0m \u001b[1;36m5\u001b[0m\u001b[1;33m]\u001b[0m\u001b[1;33m\u001b[0m\u001b[1;33m\u001b[0m\u001b[0m\n\u001b[1;32m----> 2\u001b[1;33m \u001b[0mexponent_a_list\u001b[0m\u001b[1;33m(\u001b[0m\u001b[0mnumbers\u001b[0m\u001b[1;33m,\u001b[0m \u001b[1;36m3\u001b[0m\u001b[1;33m)\u001b[0m \u001b[1;31m#the 2nd arguement allows us to specify an exponent value\u001b[0m\u001b[1;33m\u001b[0m\u001b[1;33m\u001b[0m\u001b[0m\n\u001b[0m",
      "\u001b[1;31mNameError\u001b[0m: name 'exponent_a_list' is not defined"
     ]
    }
   ],
   "source": [
    "numbers = [2, 3, 5]\n",
    "exponent_a_list(numbers, 3) #the 2nd arguement allows us to specify an exponent value"
   ]
  },
  {
   "cell_type": "code",
   "execution_count": null,
   "metadata": {},
   "outputs": [],
   "source": [
    "exponent_a_list(numbers, 5)"
   ]
  },
  {
   "cell_type": "markdown",
   "metadata": {},
   "source": [
    "Functions can have any number of arguments and any number of optional arguments, but we must be careful with the order of the arguments.\n",
    "\n",
    "When we define our arguments in a function, all arguments with default values (aka optional arguments) need to be placed after required arguments.\n",
    "\n",
    "If any required arguments follow any arguments with default values, an error will occur.\n",
    "\n",
    "Let’s take our original function exponent_a_list() and re-order it so the optional exponent argument is defined first.\n",
    "\n",
    "We will see Python throw an error."
   ]
  },
  {
   "cell_type": "code",
   "execution_count": 15,
   "metadata": {},
   "outputs": [
    {
     "ename": "SyntaxError",
     "evalue": "non-default argument follows default argument (<ipython-input-15-edf6d51d5c6a>, line 1)",
     "output_type": "error",
     "traceback": [
      "\u001b[1;36m  File \u001b[1;32m\"<ipython-input-15-edf6d51d5c6a>\"\u001b[1;36m, line \u001b[1;32m1\u001b[0m\n\u001b[1;33m    def exponent_a_list(exponent=2, numerical_list):\u001b[0m\n\u001b[1;37m                        ^\u001b[0m\n\u001b[1;31mSyntaxError\u001b[0m\u001b[1;31m:\u001b[0m non-default argument follows default argument\n"
     ]
    }
   ],
   "source": [
    "def exponent_a_list(exponent=2, numerical_list):\n",
    "    new_exponent_list = list()\n",
    "\n",
    "    for number in numerical_list:\n",
    "        new_exponent_list.append(number ** exponent)\n",
    "\n",
    "    return new_exponent_list"
   ]
  },
  {
   "cell_type": "markdown",
   "metadata": {},
   "source": [
    "Up to this point, we have been calling functions with multiple arguments in a single way.\n",
    "\n",
    "When we call our function, we have been ordering the arguments in the order the function defined them in.\n",
    "\n",
    "So, in exponent_a_list(), the argument numerical_list is defined first, followed by the argument exponent.\n",
    "\n",
    "Naturally, we have been calling our function with the arguments in this order as well."
   ]
  },
  {
   "cell_type": "code",
   "execution_count": 16,
   "metadata": {},
   "outputs": [
    {
     "data": {
      "text/plain": [
       "[32, 243, 3125]"
      ]
     },
     "execution_count": 16,
     "metadata": {},
     "output_type": "execute_result"
    }
   ],
   "source": [
    "def exponent_a_list(numerical_list, exponent=2):\n",
    "    new_exponent_list = list()\n",
    "\n",
    "    for number in numerical_list:\n",
    "        new_exponent_list.append(number ** exponent)\n",
    "\n",
    "    return new_exponent_list\n",
    "exponent_a_list([2, 3, 5], 5)"
   ]
  },
  {
   "cell_type": "markdown",
   "metadata": {},
   "source": [
    "We showed earlier that we could also call the function by specifying exponent=5.\n",
    "\n",
    "Another way of calling this would be to also specify any of the argument names that do not have default values, in this case, numerical_list.\n",
    "\n",
    "What happens if we switch up the order of the arguments and put exponent=5 followed by numerical_list=numbers?\n",
    "\n",
    "It still works!"
   ]
  },
  {
   "cell_type": "code",
   "execution_count": null,
   "metadata": {},
   "outputs": [],
   "source": [
    "exponent_a_list(numerical_list=[2, 3, 5], exponent=5)"
   ]
  },
  {
   "cell_type": "code",
   "execution_count": null,
   "metadata": {},
   "outputs": [],
   "source": [
    "exponent_a_list(exponent=5, numerical_list=[2, 3, 5])"
   ]
  },
  {
   "cell_type": "markdown",
   "metadata": {},
   "source": [
    "What about if we switch up the ordering of the arguments without specifying any of the argument names.\n",
    "\n",
    "Our function doesn’t recognize the input arguments, and an error occurs because the two arguments are being swapped - it thinks 5 is the list, and [2, 3, 5] is the exponent.\n",
    "\n",
    "It’s important to take care when ordering and calling a function.\n",
    "\n",
    "The rule of thumb to remember is if you are going to call a function where the arguments are in a different order from how they were defined, you need to assign the argument name to the value when you call the function."
   ]
  },
  {
   "cell_type": "code",
   "execution_count": null,
   "metadata": {},
   "outputs": [],
   "source": []
  },
  {
   "cell_type": "code",
   "execution_count": null,
   "metadata": {},
   "outputs": [],
   "source": [
    "exponent_a_list(5,  [2, 3, 5]) #this wont work because it thinkg that 5 is the list"
   ]
  },
  {
   "cell_type": "markdown",
   "metadata": {},
   "source": [
    "Functions can get very complicated, so it is not always obvious what they do just from looking at the name, arguments, or code.\n",
    "\n",
    "Therefore, people like to explain what the function does.\n",
    "\n",
    "The standard format for doing this is called a docstring.\n",
    "\n",
    "A docstring is a literal string that comes directly after the function def and documents the function’s purpose and usage.\n",
    "\n",
    "Writing a docstring documents what your code does so that collaborators (and you in 6 months’ time!) are not struggling to decipher and reuse your code.\n",
    "\n",
    "In the last section we had our function squares_a_list().\n",
    "\n",
    "Although our function name is quite descriptive, it could mean various things.\n",
    "\n",
    "How do we know what data type it takes in and returns?\n",
    "\n",
    "Having documentation for it can be useful in answering these questions."
   ]
  },
  {
   "cell_type": "markdown",
   "metadata": {},
   "source": [
    "Here is the code for a function from the pandas package called truncate().\n",
    "\n",
    "You can view the complete code here. https://github.com/pandas-dev/pandas/blob/v1.1.0/pandas/core/generic.py#L9258\n",
    "\n",
    "I think we can all agree that it would take a bit of time to figure out what the function is doing, the expected input variable types, and what the function is returning.\n",
    "\n",
    "Luckily pandas provides detailed documentation to explain the function’s code."
   ]
  },
  {
   "cell_type": "markdown",
   "metadata": {},
   "source": [
    "Ah. This documentation gives us a much clearer idea of what the function is doing and how to use it.\n",
    "\n",
    "We can see what it requires as input arguments and what it returns.\n",
    "\n",
    "It also explains the expectations of the function.\n",
    "\n",
    "Reading this instead of the code saved us some time and definitely potential confusion.\n",
    "\n",
    "There are several styles of docstrings; this one and the one we’ll be using is called the NumPy style."
   ]
  },
  {
   "cell_type": "markdown",
   "metadata": {},
   "source": [
    "All docstrings, not just the Numpy formatted ones, are contained within 3 sets of quotations\"\"\". We discussed in module 4 that this was one of the ways to implement string values.\n",
    "\n",
    "Adding this additional string to our function has no effect on our code, and the sole purpose of the docstring is for human consumption.\n",
    "\n",
    "The NumPy format includes 4 main sections:\n",
    "- A brief description of the function\n",
    "- Explaining the input Parameters\n",
    "- What the function Returns\n",
    "- Examplesgit a"
   ]
  },
  {
   "cell_type": "code",
   "execution_count": 17,
   "metadata": {},
   "outputs": [
    {
     "data": {
      "text/plain": [
       "str"
      ]
     },
     "execution_count": 17,
     "metadata": {},
     "output_type": "execute_result"
    }
   ],
   "source": [
    "string1 = \"\"\"This is a string\"\"\"\n",
    "type(string1)"
   ]
  },
  {
   "cell_type": "markdown",
   "metadata": {},
   "source": [
    "Writing documentation for squares_a_list() using the NumPy style takes the following format.\n",
    "\n",
    "We can identify the brief description of the function at the top, the parameters that it takes in, and what object type they should be, as well as what to expect as an output.\n",
    "\n",
    "Here we can even see examples of how to run it and what is returned."
   ]
  },
  {
   "cell_type": "code",
   "execution_count": 18,
   "metadata": {},
   "outputs": [],
   "source": [
    "def squares_a_list(numerical_list):\n",
    "    \"\"\"\n",
    "    Squared every element in a list.\n",
    "\n",
    "    Parameters\n",
    "    ----------\n",
    "    numerical_list : list\n",
    "        The list from which to calculate squared values \n",
    "\n",
    "    Returns\n",
    "    -------\n",
    "    list\n",
    "        A new list containing the squared value of each of the elements from the input list \n",
    "\n",
    "    Examples\n",
    "    --------\n",
    "    >>> squares_a_list([1, 2, 3, 4])\n",
    "    [1, 4, 9, 16]\n",
    "    \"\"\"\n",
    "    new_squared_list = list()\n",
    "    for number in numerical_list:\n",
    "        new_squared_list.append(number ** 2)\n",
    "    return new_squared_list"
   ]
  },
  {
   "cell_type": "markdown",
   "metadata": {},
   "source": [
    "Using exponent_a_list(), a function from the previous section as an example, we include an optional note in the parameter definition and an explanation of the default value in the parameter description.\n"
   ]
  },
  {
   "cell_type": "code",
   "execution_count": null,
   "metadata": {},
   "outputs": [],
   "source": [
    "def exponent_a_list(numerical_list, exponent=2):\n",
    "    \"\"\"\n",
    "    Creates a new list containing specified exponential values of the input list. \n",
    "\n",
    "    Parameters\n",
    "    ----------\n",
    "    numerical_list : list\n",
    "        The list from which to calculate exponential values from\n",
    "    exponent: int or float, optional\n",
    "        The exponent value (the default is 2, which implies the square).\n",
    "\n",
    "    Returns\n",
    "    -------\n",
    "    new_exponent_list : list\n",
    "        A new list containing the exponential value specified of each \n",
    "        of the elements from the input list \n",
    "\n",
    "    Examples\n",
    "    --------\n",
    "    >>> exponent_a_list([1, 2, 3, 4])\n",
    "    [1, 4, 9, 16]\n",
    "    \"\"\"\n",
    "\n",
    "    new_exponent_list = list()\n",
    "\n",
    "    for number in numerical_list:\n",
    "        new_exponent_list.append(number ** exponent)"
   ]
  },
  {
   "cell_type": "markdown",
   "metadata": {},
   "source": [
    "Ah, remember how we talked about side effects back at the beginning of this module?\n",
    "\n",
    "Although we recommend avoiding side effects in your functions, there may be occasions where they’re unavoidable or required.\n",
    "\n",
    "In these cases, we must make it clear in the documentation so that the user of the function knows that their objects are going to be modified. (As an analogy: If someone wants you to babysit their cat, you would probably tell them first if you were going to paint it red while you had it!)\n",
    "\n",
    "So how we include side effects in our docstrings?\n",
    "\n",
    "It’s best to include your function side effects in the first sentence of the docstring."
   ]
  },
  {
   "cell_type": "code",
   "execution_count": null,
   "metadata": {},
   "outputs": [],
   "source": [
    "def function_name(param1, param2):\n",
    "    \"\"\"The first line is a short description of the function. \n",
    "\n",
    "    If your function includes side effects, explain it clearly here.\n",
    "\n",
    "\n",
    "    Parameters\n",
    "    ----------\n",
    "    param1 : datatype\n",
    "        A description of param1.\n",
    "\n",
    "    .\n",
    "    .\n",
    "    .\n",
    "    Etc.\n",
    "    \"\"\""
   ]
  },
  {
   "cell_type": "markdown",
   "metadata": {},
   "source": [
    "Ok great! Now that we’ve written and explained our functions with a standardized format, we can read it in our file easily, but what if our function is located in a different file?\n",
    "\n",
    "How can we learn what it does when reading our code?\n",
    "\n",
    "We learned in the first assignment that we can read more about built-in functions using the question mark before the function name.\n",
    "\n",
    "This returns the docstring of the function.\n",
    "?function_name"
   ]
  },
  {
   "cell_type": "code",
   "execution_count": 20,
   "metadata": {},
   "outputs": [
    {
     "name": "stdout",
     "output_type": "stream",
     "text": [
      "Object `len # For example, if we want the docstring for the function len():` not found.\n"
     ]
    }
   ],
   "source": [
    "?len # For example, if we want the docstring for the function len():"
   ]
  },
  {
   "cell_type": "markdown",
   "metadata": {},
   "source": [
    "We all know that mistakes are a regular part of life.\n",
    "\n",
    "In coding, every line of code is at risk for potential errors, so naturally, we want a way of defending our functions against potential issues.\n",
    "\n",
    "Defensive programming is code written in such a way that, if errors do occur, they are handled in a graceful, fast and informative manner.\n",
    "\n",
    "If something goes wrong, we don’t want the code to crash on its own terms - we want it to fail gracefully, in a way we pre-determined.\n",
    "\n",
    "To help soften the landing, we write code that throws our own Exceptions.\n",
    "\n",
    "Exceptions are used in Defensive programming to disrupt the normal flow of instructions. When Python encounters code that it cannot execute, it will throw an exception.\n",
    "\n",
    "Before we dive into exceptions, let’s revisit our function exponent_a_list().\n",
    "\n",
    "It works somewhat well, but what happens if we try to use it with an input string instead of a list.\n",
    "\n",
    "We get an error that explains a little bit of what’s causing the issue but not directly.\n",
    "\n",
    "This error, called a TypeError here, is itself a Python exception. But the error message, which is a default Python message, is not super clear.\n",
    "\n",
    "This is where raising our own Exception steps in to help."
   ]
  },
  {
   "cell_type": "code",
   "execution_count": 21,
   "metadata": {},
   "outputs": [
    {
     "ename": "TypeError",
     "evalue": "unsupported operand type(s) for ** or pow(): 'str' and 'int'",
     "output_type": "error",
     "traceback": [
      "\u001b[1;31m---------------------------------------------------------------------------\u001b[0m",
      "\u001b[1;31mTypeError\u001b[0m                                 Traceback (most recent call last)",
      "\u001b[1;32m<ipython-input-21-c359ec01e42b>\u001b[0m in \u001b[0;36m<module>\u001b[1;34m\u001b[0m\n\u001b[0;32m      5\u001b[0m     \u001b[1;32mreturn\u001b[0m \u001b[0mnew_exponent_list\u001b[0m\u001b[1;33m\u001b[0m\u001b[1;33m\u001b[0m\u001b[0m\n\u001b[0;32m      6\u001b[0m \u001b[0mnumerical_string\u001b[0m \u001b[1;33m=\u001b[0m \u001b[1;34m\"123\"\u001b[0m\u001b[1;33m\u001b[0m\u001b[1;33m\u001b[0m\u001b[0m\n\u001b[1;32m----> 7\u001b[1;33m \u001b[0mexponent_a_list\u001b[0m\u001b[1;33m(\u001b[0m\u001b[0mnumerical_string\u001b[0m\u001b[1;33m)\u001b[0m\u001b[1;33m\u001b[0m\u001b[1;33m\u001b[0m\u001b[0m\n\u001b[0m",
      "\u001b[1;32m<ipython-input-21-c359ec01e42b>\u001b[0m in \u001b[0;36mexponent_a_list\u001b[1;34m(numerical_list, exponent)\u001b[0m\n\u001b[0;32m      2\u001b[0m     \u001b[0mnew_exponent_list\u001b[0m \u001b[1;33m=\u001b[0m \u001b[0mlist\u001b[0m\u001b[1;33m(\u001b[0m\u001b[1;33m)\u001b[0m\u001b[1;33m\u001b[0m\u001b[1;33m\u001b[0m\u001b[0m\n\u001b[0;32m      3\u001b[0m     \u001b[1;32mfor\u001b[0m \u001b[0mnumber\u001b[0m \u001b[1;32min\u001b[0m \u001b[0mnumerical_list\u001b[0m\u001b[1;33m:\u001b[0m\u001b[1;33m\u001b[0m\u001b[1;33m\u001b[0m\u001b[0m\n\u001b[1;32m----> 4\u001b[1;33m         \u001b[0mnew_exponent_list\u001b[0m\u001b[1;33m.\u001b[0m\u001b[0mappend\u001b[0m\u001b[1;33m(\u001b[0m\u001b[0mnumber\u001b[0m \u001b[1;33m**\u001b[0m \u001b[0mexponent\u001b[0m\u001b[1;33m)\u001b[0m\u001b[1;33m\u001b[0m\u001b[1;33m\u001b[0m\u001b[0m\n\u001b[0m\u001b[0;32m      5\u001b[0m     \u001b[1;32mreturn\u001b[0m \u001b[0mnew_exponent_list\u001b[0m\u001b[1;33m\u001b[0m\u001b[1;33m\u001b[0m\u001b[0m\n\u001b[0;32m      6\u001b[0m \u001b[0mnumerical_string\u001b[0m \u001b[1;33m=\u001b[0m \u001b[1;34m\"123\"\u001b[0m\u001b[1;33m\u001b[0m\u001b[1;33m\u001b[0m\u001b[0m\n",
      "\u001b[1;31mTypeError\u001b[0m: unsupported operand type(s) for ** or pow(): 'str' and 'int'"
     ]
    }
   ],
   "source": [
    "def exponent_a_list(numerical_list, exponent=2):\n",
    "    new_exponent_list = list()\n",
    "    for number in numerical_list:\n",
    "        new_exponent_list.append(number ** exponent)\n",
    "    return new_exponent_list\n",
    "numerical_string = \"123\"\n",
    "exponent_a_list(numerical_string)"
   ]
  },
  {
   "cell_type": "code",
   "execution_count": 22,
   "metadata": {},
   "outputs": [],
   "source": [
    "def exponent_a_list(numerical_list, exponent=2):\n",
    "\n",
    "    if type(numerical_list) is not list:\n",
    "        raise Exception(\"You are not using a list for the numerical_list input.\")\n",
    "\n",
    "    new_exponent_list = list()\n",
    "    for number in numerical_list:\n",
    "        new_exponent_list.append(number ** exponent)\n",
    "    return new_exponent_list"
   ]
  },
  {
   "cell_type": "markdown",
   "metadata": {},
   "source": [
    "Exceptions disrupt the regular execution of our code. When we raise an Exception, we are forcing our own error with our own message.\n",
    "\n",
    "If we wanted to raise an exception to solve the problem on the last slide, we could do the following."
   ]
  },
  {
   "cell_type": "code",
   "execution_count": 23,
   "metadata": {},
   "outputs": [
    {
     "ename": "Exception",
     "evalue": "You are not using a list for the numerical_list input.",
     "output_type": "error",
     "traceback": [
      "\u001b[1;31m---------------------------------------------------------------------------\u001b[0m",
      "\u001b[1;31mException\u001b[0m                                 Traceback (most recent call last)",
      "\u001b[1;32m<ipython-input-23-cd7402a413c3>\u001b[0m in \u001b[0;36m<module>\u001b[1;34m\u001b[0m\n\u001b[0;32m      1\u001b[0m \u001b[0mnumerical_string\u001b[0m \u001b[1;33m=\u001b[0m \u001b[1;34m\"123\"\u001b[0m\u001b[1;33m\u001b[0m\u001b[1;33m\u001b[0m\u001b[0m\n\u001b[1;32m----> 2\u001b[1;33m \u001b[0mexponent_a_list\u001b[0m\u001b[1;33m(\u001b[0m\u001b[0mnumerical_string\u001b[0m\u001b[1;33m)\u001b[0m\u001b[1;33m\u001b[0m\u001b[1;33m\u001b[0m\u001b[0m\n\u001b[0m",
      "\u001b[1;32m<ipython-input-22-e59f5350b1c0>\u001b[0m in \u001b[0;36mexponent_a_list\u001b[1;34m(numerical_list, exponent)\u001b[0m\n\u001b[0;32m      2\u001b[0m \u001b[1;33m\u001b[0m\u001b[0m\n\u001b[0;32m      3\u001b[0m     \u001b[1;32mif\u001b[0m \u001b[0mtype\u001b[0m\u001b[1;33m(\u001b[0m\u001b[0mnumerical_list\u001b[0m\u001b[1;33m)\u001b[0m \u001b[1;32mis\u001b[0m \u001b[1;32mnot\u001b[0m \u001b[0mlist\u001b[0m\u001b[1;33m:\u001b[0m\u001b[1;33m\u001b[0m\u001b[1;33m\u001b[0m\u001b[0m\n\u001b[1;32m----> 4\u001b[1;33m         \u001b[1;32mraise\u001b[0m \u001b[0mException\u001b[0m\u001b[1;33m(\u001b[0m\u001b[1;34m\"You are not using a list for the numerical_list input.\"\u001b[0m\u001b[1;33m)\u001b[0m\u001b[1;33m\u001b[0m\u001b[1;33m\u001b[0m\u001b[0m\n\u001b[0m\u001b[0;32m      5\u001b[0m \u001b[1;33m\u001b[0m\u001b[0m\n\u001b[0;32m      6\u001b[0m     \u001b[0mnew_exponent_list\u001b[0m \u001b[1;33m=\u001b[0m \u001b[0mlist\u001b[0m\u001b[1;33m(\u001b[0m\u001b[1;33m)\u001b[0m\u001b[1;33m\u001b[0m\u001b[1;33m\u001b[0m\u001b[0m\n",
      "\u001b[1;31mException\u001b[0m: You are not using a list for the numerical_list input."
     ]
    }
   ],
   "source": [
    "numerical_string = \"123\"\n",
    "exponent_a_list(numerical_string)"
   ]
  },
  {
   "cell_type": "markdown",
   "metadata": {},
   "source": [
    "Let’s take a closer look.\n",
    "\n",
    "The first line of code is an if statement - what needs to occur to trigger this new code we’ve written.\n",
    "\n",
    "This code translates to “If numerical_list is not of the type list…”.\n",
    "\n",
    "The second line does the complaining.\n",
    "\n",
    "We tell it to raise an Exception (throw an error) with this message.\n",
    "\n",
    "Now we get an error message that is straightforward on why our code is failing.\n",
    "\n",
    "Exception: You are not using a list for the numerical_list input.\n",
    "\n",
    "I hope we can agree that this message is easier to decipher than the original.\n",
    "\n",
    "The new message made the cause of the error much clearer to the user, making our function more usable."
   ]
  },
  {
   "cell_type": "markdown",
   "metadata": {},
   "source": [
    "Let’s now learn more about the possible different types of Exceptions.\n",
    "\n",
    "The exception type called Exception is a generic, catch-all exception type.\n",
    "\n",
    "There are also many other exception types; for example, you may have encountered ValueError or a TypeError at some point.\n",
    "\n",
    "Exception, which is used in our previous examples, may not be the best option for the raises we made.\n",
    "\n",
    "Let’s take a look now at the exception we wrote that checks if the input value for numerical_list was the correct type.\n",
    "\n",
    "Since this is a type error, a better-raised exception over Exception would be TypeError.\n",
    "\n",
    "Let’s make our correction here and change Exception in our function to TypeError."
   ]
  },
  {
   "cell_type": "code",
   "execution_count": 24,
   "metadata": {},
   "outputs": [
    {
     "ename": "NameError",
     "evalue": "name 'numerical_list' is not defined",
     "output_type": "error",
     "traceback": [
      "\u001b[1;31m---------------------------------------------------------------------------\u001b[0m",
      "\u001b[1;31mNameError\u001b[0m                                 Traceback (most recent call last)",
      "\u001b[1;32m<ipython-input-24-e87794fad234>\u001b[0m in \u001b[0;36m<module>\u001b[1;34m\u001b[0m\n\u001b[1;32m----> 1\u001b[1;33m \u001b[1;32mif\u001b[0m \u001b[0mtype\u001b[0m\u001b[1;33m(\u001b[0m\u001b[0mnumerical_list\u001b[0m\u001b[1;33m)\u001b[0m \u001b[1;32mis\u001b[0m \u001b[1;32mnot\u001b[0m \u001b[0mlist\u001b[0m\u001b[1;33m:\u001b[0m\u001b[1;33m\u001b[0m\u001b[1;33m\u001b[0m\u001b[0m\n\u001b[0m\u001b[0;32m      2\u001b[0m    \u001b[1;32mraise\u001b[0m \u001b[0mException\u001b[0m\u001b[1;33m(\u001b[0m\u001b[1;34m\"You are not using a list for the numerical_list input.\"\u001b[0m\u001b[1;33m)\u001b[0m\u001b[1;33m\u001b[0m\u001b[1;33m\u001b[0m\u001b[0m\n",
      "\u001b[1;31mNameError\u001b[0m: name 'numerical_list' is not defined"
     ]
    }
   ],
   "source": [
    "if type(numerical_list) is not list:\n",
    "   raise Exception(\"You are not using a list for the numerical_list input.\")"
   ]
  },
  {
   "cell_type": "code",
   "execution_count": 25,
   "metadata": {},
   "outputs": [],
   "source": [
    "def exponent_a_list(numerical_list, exponent=2):\n",
    "\n",
    "    if type(numerical_list) is not list:\n",
    "        raise TypeError(\"You are not using a list for the numerical_list input.\")\n",
    "\n",
    "    new_exponent_list = list()\n",
    "    for number in numerical_list:\n",
    "        new_exponent_list.append(number ** exponent)\n",
    "    return new_exponent_list"
   ]
  },
  {
   "cell_type": "code",
   "execution_count": 26,
   "metadata": {},
   "outputs": [
    {
     "ename": "TypeError",
     "evalue": "You are not using a list for the numerical_list input.",
     "output_type": "error",
     "traceback": [
      "\u001b[1;31m---------------------------------------------------------------------------\u001b[0m",
      "\u001b[1;31mTypeError\u001b[0m                                 Traceback (most recent call last)",
      "\u001b[1;32m<ipython-input-26-cd7402a413c3>\u001b[0m in \u001b[0;36m<module>\u001b[1;34m\u001b[0m\n\u001b[0;32m      1\u001b[0m \u001b[0mnumerical_string\u001b[0m \u001b[1;33m=\u001b[0m \u001b[1;34m\"123\"\u001b[0m\u001b[1;33m\u001b[0m\u001b[1;33m\u001b[0m\u001b[0m\n\u001b[1;32m----> 2\u001b[1;33m \u001b[0mexponent_a_list\u001b[0m\u001b[1;33m(\u001b[0m\u001b[0mnumerical_string\u001b[0m\u001b[1;33m)\u001b[0m\u001b[1;33m\u001b[0m\u001b[1;33m\u001b[0m\u001b[0m\n\u001b[0m",
      "\u001b[1;32m<ipython-input-25-b987b9ecfaf7>\u001b[0m in \u001b[0;36mexponent_a_list\u001b[1;34m(numerical_list, exponent)\u001b[0m\n\u001b[0;32m      2\u001b[0m \u001b[1;33m\u001b[0m\u001b[0m\n\u001b[0;32m      3\u001b[0m     \u001b[1;32mif\u001b[0m \u001b[0mtype\u001b[0m\u001b[1;33m(\u001b[0m\u001b[0mnumerical_list\u001b[0m\u001b[1;33m)\u001b[0m \u001b[1;32mis\u001b[0m \u001b[1;32mnot\u001b[0m \u001b[0mlist\u001b[0m\u001b[1;33m:\u001b[0m\u001b[1;33m\u001b[0m\u001b[1;33m\u001b[0m\u001b[0m\n\u001b[1;32m----> 4\u001b[1;33m         \u001b[1;32mraise\u001b[0m \u001b[0mTypeError\u001b[0m\u001b[1;33m(\u001b[0m\u001b[1;34m\"You are not using a list for the numerical_list input.\"\u001b[0m\u001b[1;33m)\u001b[0m\u001b[1;33m\u001b[0m\u001b[1;33m\u001b[0m\u001b[0m\n\u001b[0m\u001b[0;32m      5\u001b[0m \u001b[1;33m\u001b[0m\u001b[0m\n\u001b[0;32m      6\u001b[0m     \u001b[0mnew_exponent_list\u001b[0m \u001b[1;33m=\u001b[0m \u001b[0mlist\u001b[0m\u001b[1;33m(\u001b[0m\u001b[1;33m)\u001b[0m\u001b[1;33m\u001b[0m\u001b[1;33m\u001b[0m\u001b[0m\n",
      "\u001b[1;31mTypeError\u001b[0m: You are not using a list for the numerical_list input."
     ]
    }
   ],
   "source": [
    "numerical_string = \"123\"\n",
    "exponent_a_list(numerical_string)"
   ]
  },
  {
   "cell_type": "markdown",
   "metadata": {},
   "source": [
    "Now that we can write exceptions, it’s important to document them.\n",
    "\n",
    "It’s a good idea to include details of any included exceptions in our function’s docstring.\n",
    "\n",
    "Under the NumPy docstring format, we explain our raised exception after the “Returns” section.\n",
    "\n",
    "We first specify the exception type and then an explanation of what causes the exception to be raised.\n",
    "\n",
    "For example, we’ve added a “Raises” section in our exponent_a_list docstring here."
   ]
  },
  {
   "cell_type": "code",
   "execution_count": null,
   "metadata": {},
   "outputs": [],
   "source": [
    "def exponent_a_list(numerical_list, exponent=2):\n",
    "    \"\"\"\n",
    "    Creates a new list containing specified exponential values of the input list. \n",
    "\n",
    "    Parameters\n",
    "    ----------\n",
    "    numerical_list : list\n",
    "        The list from which to calculate exponential values from\n",
    "    exponent : int or float, optional\n",
    "        The exponent value (the default is 2, which implies the square).\n",
    "\n",
    "    Returns\n",
    "    -------\n",
    "    new_exponent_list : list\n",
    "        A new list containing the exponential value specified of each \n",
    "        of the elements from the input list \n",
    "\n",
    "    Raises\n",
    "    ------\n",
    "    TypeError\n",
    "        If the input argument numerical_list is not of type list\n",
    "\n",
    "    Examples\n",
    "    --------\n",
    "    >>> exponent_a_list([1, 2, 3, 4])\n",
    "    [1, 4, 9, 16]\n",
    "    \"\"\""
   ]
  },
  {
   "cell_type": "markdown",
   "metadata": {},
   "source": [
    "In the last section, we learned about raising exceptions, which, in a lot of cases, helps the function user identify if they are using it correctly.\n",
    "\n",
    "But there are still some questions remaining:\n",
    "\n",
    "How can we be so sure that the code we wrote is doing what we want it to?\n",
    "\n",
    "Does our code work 100% of the time?\n",
    "\n",
    "These questions can be answered by using something called units tests.\n",
    "\n",
    "We’ll be implementing unit tests in Python using assert statements.\" assert statements are just one way of implementing unit tests.\n",
    "\n",
    "Let’s first discuss the syntax of an assert statement and then how they can be applied to the bigger concept, which is unit tests."
   ]
  },
  {
   "cell_type": "markdown",
   "metadata": {},
   "source": [
    "assert statements can be used as sanity checks for our program.\n",
    "\n",
    "We implement them as a “debugging” tactic to make sure our code runs as we expect it to.\n",
    "\n",
    "When Python reaches an assert statement, it evaluates the condition to a Boolean value.\n",
    "\n",
    "If the statement is True, Python will continue to run. However, if the Boolean is False, the code stops running, and an error message is printed.\n",
    "\n",
    "Let’s take a look at one.\n",
    "\n",
    "Here we have the keyword assert that checks if 1==2. Since this is False, an error is thrown, and the message beside the condition \"1 is not equal to 2.\" is outputted."
   ]
  },
  {
   "cell_type": "code",
   "execution_count": 27,
   "metadata": {},
   "outputs": [
    {
     "ename": "AssertionError",
     "evalue": "1 is not equal to 2.",
     "output_type": "error",
     "traceback": [
      "\u001b[1;31m---------------------------------------------------------------------------\u001b[0m",
      "\u001b[1;31mAssertionError\u001b[0m                            Traceback (most recent call last)",
      "\u001b[1;32m<ipython-input-27-6a6bcee9d8ba>\u001b[0m in \u001b[0;36m<module>\u001b[1;34m\u001b[0m\n\u001b[1;32m----> 1\u001b[1;33m \u001b[1;32massert\u001b[0m \u001b[1;36m1\u001b[0m \u001b[1;33m==\u001b[0m \u001b[1;36m2\u001b[0m \u001b[1;33m,\u001b[0m \u001b[1;34m\"1 is not equal to 2.\"\u001b[0m\u001b[1;33m\u001b[0m\u001b[1;33m\u001b[0m\u001b[0m\n\u001b[0m",
      "\u001b[1;31mAssertionError\u001b[0m: 1 is not equal to 2."
     ]
    }
   ],
   "source": [
    "assert 1 == 2 , \"1 is not equal to 2.\""
   ]
  },
  {
   "cell_type": "markdown",
   "metadata": {},
   "source": [
    "https://prog-learn.mds.ubc.ca/module6/assert2.png"
   ]
  },
  {
   "cell_type": "markdown",
   "metadata": {},
   "source": [
    "Let’s take a look at an example where the Boolean is True.\n",
    "\n",
    "Here, since the assert statement results in a True values, Python continues to run, and the next line of code is executed.\n",
    "\n",
    "When an assert is thrown due to a Boolean evaluating to False, the next line of code does not get an opportunity to be executed."
   ]
  },
  {
   "cell_type": "code",
   "execution_count": 28,
   "metadata": {},
   "outputs": [
    {
     "name": "stdout",
     "output_type": "stream",
     "text": [
      "Will this line execute?\n"
     ]
    }
   ],
   "source": [
    "assert 1 == 1 , \"1 is not equal to 1.\"\n",
    "print('Will this line execute?')"
   ]
  },
  {
   "cell_type": "code",
   "execution_count": 29,
   "metadata": {},
   "outputs": [
    {
     "ename": "AssertionError",
     "evalue": "1 is not equal to 2.",
     "output_type": "error",
     "traceback": [
      "\u001b[1;31m---------------------------------------------------------------------------\u001b[0m",
      "\u001b[1;31mAssertionError\u001b[0m                            Traceback (most recent call last)",
      "\u001b[1;32m<ipython-input-29-3f22d07a86d1>\u001b[0m in \u001b[0;36m<module>\u001b[1;34m\u001b[0m\n\u001b[1;32m----> 1\u001b[1;33m \u001b[1;32massert\u001b[0m \u001b[1;36m1\u001b[0m \u001b[1;33m==\u001b[0m \u001b[1;36m2\u001b[0m \u001b[1;33m,\u001b[0m \u001b[1;34m\"1 is not equal to 2.\"\u001b[0m\u001b[1;33m\u001b[0m\u001b[1;33m\u001b[0m\u001b[0m\n\u001b[0m\u001b[0;32m      2\u001b[0m \u001b[0mprint\u001b[0m\u001b[1;33m(\u001b[0m\u001b[1;34m'Will this line execute?'\u001b[0m\u001b[1;33m)\u001b[0m\u001b[1;33m\u001b[0m\u001b[1;33m\u001b[0m\u001b[0m\n",
      "\u001b[1;31mAssertionError\u001b[0m: 1 is not equal to 2."
     ]
    }
   ],
   "source": [
    "assert 1 == 2 , \"1 is not equal to 2.\"\n",
    "print('Will this line execute?')"
   ]
  },
  {
   "cell_type": "code",
   "execution_count": null,
   "metadata": {},
   "outputs": [],
   "source": [
    "Not all assert statements need to have a message.\n",
    "\n",
    "We can re-write the statement from before without one.\n",
    "\n",
    "This time you’ll notice that the error doesn’t contain the particular message beside AssertionError like we had before."
   ]
  },
  {
   "cell_type": "code",
   "execution_count": 30,
   "metadata": {},
   "outputs": [
    {
     "ename": "AssertionError",
     "evalue": "",
     "output_type": "error",
     "traceback": [
      "\u001b[1;31m---------------------------------------------------------------------------\u001b[0m",
      "\u001b[1;31mAssertionError\u001b[0m                            Traceback (most recent call last)",
      "\u001b[1;32m<ipython-input-30-e0f7cef8b3dc>\u001b[0m in \u001b[0;36m<module>\u001b[1;34m\u001b[0m\n\u001b[1;32m----> 1\u001b[1;33m \u001b[1;32massert\u001b[0m \u001b[1;36m1\u001b[0m \u001b[1;33m==\u001b[0m \u001b[1;36m2\u001b[0m\u001b[1;33m\u001b[0m\u001b[1;33m\u001b[0m\u001b[0m\n\u001b[0m",
      "\u001b[1;31mAssertionError\u001b[0m: "
     ]
    }
   ],
   "source": [
    "assert 1 == 2 "
   ]
  },
  {
   "cell_type": "markdown",
   "metadata": {},
   "source": [
    "Where do assert statements come in handy?\n",
    "\n",
    "Up to this point, we have been creating functions, and only after we have written them, we’ve tested if they work.\n",
    "\n",
    "Some programmers use a different approach: writing tests before the actual function. This is called Test-Driven Development.\n",
    "\n",
    "This may seem a little counter-intuitive, but we’re creating the expectations of our function before the actual function code.\n",
    "\n",
    "Often we have an idea of what our function should be able to do and what output is expected.\n",
    "\n",
    "If we write our tests before the function, it helps understand exactly what code we need to write and it avoids encountering large time-consuming bugs down the line.\n",
    "\n",
    "Once we have a serious of tests for the function, we can put them into assert statements as an easy way of checking that all the tests pass."
   ]
  },
  {
   "cell_type": "markdown",
   "metadata": {},
   "source": [
    "https://prog-learn.mds.ubc.ca/module6/why.png"
   ]
  },
  {
   "cell_type": "markdown",
   "metadata": {},
   "source": [
    "So, what kind of tests do we want?\n",
    "\n",
    "We want to keep these tests simple - things that we know are true or could be easily calculated by hand.\n",
    "\n",
    "For example, let’s look at our exponent_a_list() function.\n",
    "\n",
    "Easy cases for this function would be lists containing numbers that we can easily square or cube.\n",
    "\n",
    "For example, we expect the square output of [1, 2, 4, 7] to be [1, 4, 16, 49].\n",
    "\n",
    "The test for this would look like the one shown here.\n",
    "\n",
    "It is recommended to write multiple tests.\n",
    "\n",
    "Let’s write another test for a differently sized list as well as different values for both input arguments numerical_list and exponent.\n",
    "\n",
    "Let’s make another test for exponent = 3. Again, we use numbers that we know the cube of.\n",
    "\n",
    "We can also test that the type of the returned object is correct."
   ]
  },
  {
   "cell_type": "code",
   "execution_count": 31,
   "metadata": {},
   "outputs": [],
   "source": [
    "def exponent_a_list(numerical_list, exponent=2):\n",
    "    new_exponent_list = list()\n",
    "\n",
    "    for number in numerical_list:\n",
    "        new_exponent_list.append(number ** exponent)\n",
    "\n",
    "    return new_exponent_list"
   ]
  },
  {
   "cell_type": "code",
   "execution_count": 32,
   "metadata": {},
   "outputs": [],
   "source": [
    "assert exponent_a_list([1, 2, 4, 7], 2) == [1, 4, 16, 49], \"incorrect output for exponent = 2\""
   ]
  },
  {
   "cell_type": "code",
   "execution_count": 33,
   "metadata": {},
   "outputs": [],
   "source": [
    "assert exponent_a_list([1, 2, 3], 3) == [1, 8, 27], \"incorrect output for exponent = 3\""
   ]
  },
  {
   "cell_type": "code",
   "execution_count": 34,
   "metadata": {},
   "outputs": [],
   "source": [
    "assert type(exponent_a_list([1,2,4], 2)) == list, \"output type not a list\""
   ]
  },
  {
   "cell_type": "markdown",
   "metadata": {},
   "source": [
    "Just because all our tests pass, this does not mean our program is necessarily correct.\n",
    "\n",
    "It’s common that our tests can pass, but our code contains errors.\n",
    "\n",
    "Let’s take a look at the function bad_function(). It’s very similar to exponent_a_list except that it separately computes the first entry before doing the rest in the loop.\n",
    "\n",
    "This function looks like it would work perfectly fine, but what happens if we get an input argument for numerical_list that cannot be sliced?\n",
    "\n",
    "Let’s write some unit tests using assert statements and see what happens.\n",
    "\n",
    "Here, it looks like our tests pass at first.\n",
    "\n",
    "But what happens if we try our function with an empty list?\n",
    "\n",
    "We get an unexpected error! How do we avoid this?\n",
    "\n",
    "Write a lot of tests and don’t be overconfident, even after writing a lot of tests!\n",
    "\n",
    "Checking an empty list in our bad_function() function is an example of checking a corner case.\n",
    "\n",
    "A corner case is an input that is reasonable but a bit unusual and may trip up our code."
   ]
  },
  {
   "cell_type": "code",
   "execution_count": 35,
   "metadata": {},
   "outputs": [],
   "source": [
    "def bad_function(numerical_list, exponent=2):\n",
    "    new_exponent_list = [numerical_list[0] ** exponent] # seed list with first element\n",
    "    for number in numerical_list[1:]:\n",
    "        new_exponent_list.append(number ** exponent)\n",
    "    return new_exponent_list"
   ]
  },
  {
   "cell_type": "code",
   "execution_count": 37,
   "metadata": {},
   "outputs": [],
   "source": [
    "assert bad_function([1, 2, 4, 7], 2) == [1, 4, 16, 49], \"incorrect output for exponent = 2\"\n",
    "assert bad_function([2, 1, 3], 3) == [8, 1, 27], \"incorrect output for exponent = 3\""
   ]
  },
  {
   "cell_type": "code",
   "execution_count": 38,
   "metadata": {},
   "outputs": [
    {
     "ename": "IndexError",
     "evalue": "list index out of range",
     "output_type": "error",
     "traceback": [
      "\u001b[1;31m---------------------------------------------------------------------------\u001b[0m",
      "\u001b[1;31mIndexError\u001b[0m                                Traceback (most recent call last)",
      "\u001b[1;32m<ipython-input-38-e2053738ec54>\u001b[0m in \u001b[0;36m<module>\u001b[1;34m\u001b[0m\n\u001b[1;32m----> 1\u001b[1;33m \u001b[0mbad_function\u001b[0m\u001b[1;33m(\u001b[0m\u001b[1;33m[\u001b[0m\u001b[1;33m]\u001b[0m\u001b[1;33m,\u001b[0m \u001b[1;36m2\u001b[0m\u001b[1;33m)\u001b[0m\u001b[1;33m\u001b[0m\u001b[1;33m\u001b[0m\u001b[0m\n\u001b[0m",
      "\u001b[1;32m<ipython-input-35-5c23a37f557a>\u001b[0m in \u001b[0;36mbad_function\u001b[1;34m(numerical_list, exponent)\u001b[0m\n\u001b[0;32m      1\u001b[0m \u001b[1;32mdef\u001b[0m \u001b[0mbad_function\u001b[0m\u001b[1;33m(\u001b[0m\u001b[0mnumerical_list\u001b[0m\u001b[1;33m,\u001b[0m \u001b[0mexponent\u001b[0m\u001b[1;33m=\u001b[0m\u001b[1;36m2\u001b[0m\u001b[1;33m)\u001b[0m\u001b[1;33m:\u001b[0m\u001b[1;33m\u001b[0m\u001b[1;33m\u001b[0m\u001b[0m\n\u001b[1;32m----> 2\u001b[1;33m     \u001b[0mnew_exponent_list\u001b[0m \u001b[1;33m=\u001b[0m \u001b[1;33m[\u001b[0m\u001b[0mnumerical_list\u001b[0m\u001b[1;33m[\u001b[0m\u001b[1;36m0\u001b[0m\u001b[1;33m]\u001b[0m \u001b[1;33m**\u001b[0m \u001b[0mexponent\u001b[0m\u001b[1;33m]\u001b[0m \u001b[1;31m# seed list with first element\u001b[0m\u001b[1;33m\u001b[0m\u001b[1;33m\u001b[0m\u001b[0m\n\u001b[0m\u001b[0;32m      3\u001b[0m     \u001b[1;32mfor\u001b[0m \u001b[0mnumber\u001b[0m \u001b[1;32min\u001b[0m \u001b[0mnumerical_list\u001b[0m\u001b[1;33m[\u001b[0m\u001b[1;36m1\u001b[0m\u001b[1;33m:\u001b[0m\u001b[1;33m]\u001b[0m\u001b[1;33m:\u001b[0m\u001b[1;33m\u001b[0m\u001b[1;33m\u001b[0m\u001b[0m\n\u001b[0;32m      4\u001b[0m         \u001b[0mnew_exponent_list\u001b[0m\u001b[1;33m.\u001b[0m\u001b[0mappend\u001b[0m\u001b[1;33m(\u001b[0m\u001b[0mnumber\u001b[0m \u001b[1;33m**\u001b[0m \u001b[0mexponent\u001b[0m\u001b[1;33m)\u001b[0m\u001b[1;33m\u001b[0m\u001b[1;33m\u001b[0m\u001b[0m\n\u001b[0;32m      5\u001b[0m     \u001b[1;32mreturn\u001b[0m \u001b[0mnew_exponent_list\u001b[0m\u001b[1;33m\u001b[0m\u001b[1;33m\u001b[0m\u001b[0m\n",
      "\u001b[1;31mIndexError\u001b[0m: list index out of range"
     ]
    }
   ],
   "source": [
    "bad_function([], 2)"
   ]
  },
  {
   "cell_type": "markdown",
   "metadata": {},
   "source": [
    "Often, we will be making functions that work on data.\n",
    "\n",
    "For example, perhaps we want to write a function called column_stats that returns some summary statistics in the form of a dictionary.\n",
    "\n",
    "The function here is something we might have envisioned. (Note that if we’re using test-driven development, this function will just be an idea, not completed code.)\n",
    "\n",
    "In these situations, we need to invent some sort of data so that we can easily calculate the max, min, range, and mean and write unit tests to check that our function does the correct operations.\n",
    "\n",
    "The data can be made from scratch using functions such as pd.DataFrame() or pd.DataFrame.from_dict() which we learned about in module 4.\n",
    "\n",
    "You can also upload a very small slice of an existing dataframe."
   ]
  },
  {
   "cell_type": "code",
   "execution_count": 39,
   "metadata": {},
   "outputs": [],
   "source": [
    "def column_stats(df, column):\n",
    "   stats_dict = {'max': df[column].max(),\n",
    "                 'min': df[column].min(),\n",
    "                 'mean': round(df[column].mean()),\n",
    "                 'range': df[column].max() - df[column].min()}\n",
    "   return stats_dict"
   ]
  },
  {
   "cell_type": "markdown",
   "metadata": {},
   "source": [
    "The values we chose in our columns should be simple enough to easily calculate the expected output of our function.\n",
    "\n",
    "Just like how we made unit tests using calculations we know to be true, we do the same using a simple dataset we call helper data.\n",
    "\n",
    "The dataframe must have a small dimension to keep the calculations simple.\n",
    "\n",
    "The tests we write for the function column_stats() are now easy to calculate since the values we are using are few and simple.\n",
    "\n",
    "We wrote tests that check different columns in our forest dataframe."
   ]
  },
  {
   "cell_type": "code",
   "execution_count": 41,
   "metadata": {},
   "outputs": [
    {
     "data": {
      "text/html": [
       "<div>\n",
       "<style scoped>\n",
       "    .dataframe tbody tr th:only-of-type {\n",
       "        vertical-align: middle;\n",
       "    }\n",
       "\n",
       "    .dataframe tbody tr th {\n",
       "        vertical-align: top;\n",
       "    }\n",
       "\n",
       "    .dataframe thead th {\n",
       "        text-align: right;\n",
       "    }\n",
       "</style>\n",
       "<table border=\"1\" class=\"dataframe\">\n",
       "  <thead>\n",
       "    <tr style=\"text-align: right;\">\n",
       "      <th></th>\n",
       "      <th>name</th>\n",
       "      <th>height</th>\n",
       "      <th>diameter</th>\n",
       "      <th>age</th>\n",
       "      <th>flowering</th>\n",
       "    </tr>\n",
       "  </thead>\n",
       "  <tbody>\n",
       "    <tr>\n",
       "      <th>0</th>\n",
       "      <td>Cherry</td>\n",
       "      <td>15</td>\n",
       "      <td>2</td>\n",
       "      <td>0</td>\n",
       "      <td>True</td>\n",
       "    </tr>\n",
       "    <tr>\n",
       "      <th>1</th>\n",
       "      <td>Oak</td>\n",
       "      <td>20</td>\n",
       "      <td>5</td>\n",
       "      <td>0</td>\n",
       "      <td>False</td>\n",
       "    </tr>\n",
       "    <tr>\n",
       "      <th>2</th>\n",
       "      <td>Willow</td>\n",
       "      <td>10</td>\n",
       "      <td>3</td>\n",
       "      <td>0</td>\n",
       "      <td>True</td>\n",
       "    </tr>\n",
       "    <tr>\n",
       "      <th>3</th>\n",
       "      <td>Fir</td>\n",
       "      <td>5</td>\n",
       "      <td>10</td>\n",
       "      <td>0</td>\n",
       "      <td>False</td>\n",
       "    </tr>\n",
       "    <tr>\n",
       "      <th>4</th>\n",
       "      <td>Oak</td>\n",
       "      <td>10</td>\n",
       "      <td>5</td>\n",
       "      <td>0</td>\n",
       "      <td>False</td>\n",
       "    </tr>\n",
       "  </tbody>\n",
       "</table>\n",
       "</div>"
      ],
      "text/plain": [
       "     name  height  diameter  age  flowering\n",
       "0  Cherry      15         2    0       True\n",
       "1     Oak      20         5    0      False\n",
       "2  Willow      10         3    0       True\n",
       "3     Fir       5        10    0      False\n",
       "4     Oak      10         5    0      False"
      ]
     },
     "execution_count": 41,
     "metadata": {},
     "output_type": "execute_result"
    }
   ],
   "source": [
    "import pandas as pd\n",
    "data = {'name': ['Cherry', 'Oak', 'Willow', 'Fir', 'Oak'], \n",
    "        'height': [15, 20, 10, 5, 10], \n",
    "        'diameter': [2, 5, 3, 10, 5], \n",
    "        'age': [0, 0, 0, 0, 0], \n",
    "        'flowering': [True, False, True, False, False]}\n",
    "\n",
    "forest = pd.DataFrame.from_dict(data)\n",
    "forest"
   ]
  },
  {
   "cell_type": "code",
   "execution_count": 42,
   "metadata": {},
   "outputs": [],
   "source": [
    "assert column_stats(forest, 'height') == {'max': 20, 'min': 5, 'mean': 12.0, 'range': 15}\n",
    "assert column_stats(forest, 'diameter') == {'max': 10, 'min': 2, 'mean': 5.0, 'range': 8}\n",
    "assert column_stats(forest, 'age') == {'max': 0, 'min': 0, 'mean': 0, 'range': 0}\n"
   ]
  },
  {
   "cell_type": "markdown",
   "metadata": {},
   "source": [
    "We use a systematic approach to design our function using a general set of steps to follow when writing programs.\n",
    "\n",
    "The approach we recommend includes 5 steps:\n",
    "\n",
    "1. Write the function stub: a function that does nothing but accepts all input parameters and returns the correct datatype.\n",
    "\n",
    "This means we are writing the skeleton of a function.\n",
    "\n",
    "We include the line that defines the function with the input arguments and the return statement returning the object with the desired data type.\n",
    "\n",
    "Using our exponent_a_list() function as an example, we include the function’s first line and the return statement."
   ]
  },
  {
   "cell_type": "code",
   "execution_count": 43,
   "metadata": {},
   "outputs": [],
   "source": [
    "def exponent_a_list(numerical_list, exponent=2):\n",
    "    return list()"
   ]
  },
  {
   "cell_type": "markdown",
   "metadata": {},
   "source": [
    "2. Write tests to satisfy the design specifications.\n",
    "\n",
    "This is where our assert statements come in.\n",
    "\n",
    "We write tests that we want our function to pass.\n",
    "\n",
    "In our exponent_a_list() example, we expect that our function will take in a list and an optional argument named exponent and then returns a list with the exponential value of each element of the input list.\n",
    "\n",
    "Here we can see our code fails since we have no function code yet!"
   ]
  },
  {
   "cell_type": "code",
   "execution_count": 44,
   "metadata": {},
   "outputs": [
    {
     "ename": "AssertionError",
     "evalue": "incorrect output for exponent = 2",
     "output_type": "error",
     "traceback": [
      "\u001b[1;31m---------------------------------------------------------------------------\u001b[0m",
      "\u001b[1;31mAssertionError\u001b[0m                            Traceback (most recent call last)",
      "\u001b[1;32m<ipython-input-44-afe1a0a505a4>\u001b[0m in \u001b[0;36m<module>\u001b[1;34m\u001b[0m\n\u001b[0;32m      3\u001b[0m \u001b[1;33m\u001b[0m\u001b[0m\n\u001b[0;32m      4\u001b[0m \u001b[1;32massert\u001b[0m \u001b[0mtype\u001b[0m\u001b[1;33m(\u001b[0m\u001b[0mexponent_a_list\u001b[0m\u001b[1;33m(\u001b[0m\u001b[1;33m[\u001b[0m\u001b[1;36m1\u001b[0m\u001b[1;33m,\u001b[0m\u001b[1;36m2\u001b[0m\u001b[1;33m,\u001b[0m\u001b[1;36m4\u001b[0m\u001b[1;33m]\u001b[0m\u001b[1;33m,\u001b[0m \u001b[1;36m2\u001b[0m\u001b[1;33m)\u001b[0m\u001b[1;33m)\u001b[0m \u001b[1;33m==\u001b[0m \u001b[0mlist\u001b[0m\u001b[1;33m,\u001b[0m \u001b[1;34m\"output type not a list\"\u001b[0m\u001b[1;33m\u001b[0m\u001b[1;33m\u001b[0m\u001b[0m\n\u001b[1;32m----> 5\u001b[1;33m \u001b[1;32massert\u001b[0m \u001b[0mexponent_a_list\u001b[0m\u001b[1;33m(\u001b[0m\u001b[1;33m[\u001b[0m\u001b[1;36m1\u001b[0m\u001b[1;33m,\u001b[0m \u001b[1;36m2\u001b[0m\u001b[1;33m,\u001b[0m \u001b[1;36m4\u001b[0m\u001b[1;33m,\u001b[0m \u001b[1;36m7\u001b[0m\u001b[1;33m]\u001b[0m\u001b[1;33m,\u001b[0m \u001b[1;36m2\u001b[0m\u001b[1;33m)\u001b[0m \u001b[1;33m==\u001b[0m \u001b[1;33m[\u001b[0m\u001b[1;36m1\u001b[0m\u001b[1;33m,\u001b[0m \u001b[1;36m4\u001b[0m\u001b[1;33m,\u001b[0m \u001b[1;36m16\u001b[0m\u001b[1;33m,\u001b[0m \u001b[1;36m49\u001b[0m\u001b[1;33m]\u001b[0m\u001b[1;33m,\u001b[0m \u001b[1;34m\"incorrect output for exponent = 2\"\u001b[0m\u001b[1;33m\u001b[0m\u001b[1;33m\u001b[0m\u001b[0m\n\u001b[0m\u001b[0;32m      6\u001b[0m \u001b[1;32massert\u001b[0m \u001b[0mexponent_a_list\u001b[0m\u001b[1;33m(\u001b[0m\u001b[1;33m[\u001b[0m\u001b[1;36m1\u001b[0m\u001b[1;33m,\u001b[0m \u001b[1;36m2\u001b[0m\u001b[1;33m,\u001b[0m \u001b[1;36m3\u001b[0m\u001b[1;33m]\u001b[0m\u001b[1;33m,\u001b[0m \u001b[1;36m3\u001b[0m\u001b[1;33m)\u001b[0m \u001b[1;33m==\u001b[0m \u001b[1;33m[\u001b[0m\u001b[1;36m1\u001b[0m\u001b[1;33m,\u001b[0m \u001b[1;36m8\u001b[0m\u001b[1;33m,\u001b[0m \u001b[1;36m27\u001b[0m\u001b[1;33m]\u001b[0m\u001b[1;33m,\u001b[0m \u001b[1;34m\"incorrect output for exponent = 3\"\u001b[0m\u001b[1;33m\u001b[0m\u001b[1;33m\u001b[0m\u001b[0m\n",
      "\u001b[1;31mAssertionError\u001b[0m: incorrect output for exponent = 2"
     ]
    }
   ],
   "source": [
    "def exponent_a_list(numerical_list, exponent=2):\n",
    "    return list()\n",
    "\n",
    "assert type(exponent_a_list([1,2,4], 2)) == list, \"output type not a list\"\n",
    "assert exponent_a_list([1, 2, 4, 7], 2) == [1, 4, 16, 49], \"incorrect output for exponent = 2\"\n",
    "assert exponent_a_list([1, 2, 3], 3) == [1, 8, 27], \"incorrect output for exponent = 3\""
   ]
  },
  {
   "cell_type": "markdown",
   "metadata": {},
   "source": [
    "3. Outline the program with pseudo-code.\n",
    "\n",
    "Pseudo-code is an informal but high-level description of the code and operations that we wish to implement.\n",
    "\n",
    "In this step, we are essentially writing the steps that we anticipate needing to complete our function as comments within the function.\n",
    "\n",
    "So for our function pseudo-code includes:"
   ]
  },
  {
   "cell_type": "code",
   "execution_count": 45,
   "metadata": {},
   "outputs": [
    {
     "ename": "AssertionError",
     "evalue": "incorrect output for exponent = 2",
     "output_type": "error",
     "traceback": [
      "\u001b[1;31m---------------------------------------------------------------------------\u001b[0m",
      "\u001b[1;31mAssertionError\u001b[0m                            Traceback (most recent call last)",
      "\u001b[1;32m<ipython-input-45-67de1ee76e3a>\u001b[0m in \u001b[0;36m<module>\u001b[1;34m\u001b[0m\n\u001b[0;32m      9\u001b[0m \u001b[1;33m\u001b[0m\u001b[0m\n\u001b[0;32m     10\u001b[0m \u001b[1;32massert\u001b[0m \u001b[0mtype\u001b[0m\u001b[1;33m(\u001b[0m\u001b[0mexponent_a_list\u001b[0m\u001b[1;33m(\u001b[0m\u001b[1;33m[\u001b[0m\u001b[1;36m1\u001b[0m\u001b[1;33m,\u001b[0m\u001b[1;36m2\u001b[0m\u001b[1;33m,\u001b[0m\u001b[1;36m4\u001b[0m\u001b[1;33m]\u001b[0m\u001b[1;33m,\u001b[0m \u001b[1;36m2\u001b[0m\u001b[1;33m)\u001b[0m\u001b[1;33m)\u001b[0m \u001b[1;33m==\u001b[0m \u001b[0mlist\u001b[0m\u001b[1;33m,\u001b[0m \u001b[1;34m\"output type not a list\"\u001b[0m\u001b[1;33m\u001b[0m\u001b[1;33m\u001b[0m\u001b[0m\n\u001b[1;32m---> 11\u001b[1;33m \u001b[1;32massert\u001b[0m \u001b[0mexponent_a_list\u001b[0m\u001b[1;33m(\u001b[0m\u001b[1;33m[\u001b[0m\u001b[1;36m1\u001b[0m\u001b[1;33m,\u001b[0m \u001b[1;36m2\u001b[0m\u001b[1;33m,\u001b[0m \u001b[1;36m4\u001b[0m\u001b[1;33m,\u001b[0m \u001b[1;36m7\u001b[0m\u001b[1;33m]\u001b[0m\u001b[1;33m,\u001b[0m \u001b[1;36m2\u001b[0m\u001b[1;33m)\u001b[0m \u001b[1;33m==\u001b[0m \u001b[1;33m[\u001b[0m\u001b[1;36m1\u001b[0m\u001b[1;33m,\u001b[0m \u001b[1;36m4\u001b[0m\u001b[1;33m,\u001b[0m \u001b[1;36m16\u001b[0m\u001b[1;33m,\u001b[0m \u001b[1;36m49\u001b[0m\u001b[1;33m]\u001b[0m\u001b[1;33m,\u001b[0m \u001b[1;34m\"incorrect output for exponent = 2\"\u001b[0m\u001b[1;33m\u001b[0m\u001b[1;33m\u001b[0m\u001b[0m\n\u001b[0m\u001b[0;32m     12\u001b[0m \u001b[1;32massert\u001b[0m \u001b[0mexponent_a_list\u001b[0m\u001b[1;33m(\u001b[0m\u001b[1;33m[\u001b[0m\u001b[1;36m1\u001b[0m\u001b[1;33m,\u001b[0m \u001b[1;36m2\u001b[0m\u001b[1;33m,\u001b[0m \u001b[1;36m3\u001b[0m\u001b[1;33m]\u001b[0m\u001b[1;33m,\u001b[0m \u001b[1;36m3\u001b[0m\u001b[1;33m)\u001b[0m \u001b[1;33m==\u001b[0m \u001b[1;33m[\u001b[0m\u001b[1;36m1\u001b[0m\u001b[1;33m,\u001b[0m \u001b[1;36m8\u001b[0m\u001b[1;33m,\u001b[0m \u001b[1;36m27\u001b[0m\u001b[1;33m]\u001b[0m\u001b[1;33m,\u001b[0m \u001b[1;34m\"incorrect output for exponent = 3\"\u001b[0m\u001b[1;33m\u001b[0m\u001b[1;33m\u001b[0m\u001b[0m\n",
      "\u001b[1;31mAssertionError\u001b[0m: incorrect output for exponent = 2"
     ]
    }
   ],
   "source": [
    "def exponent_a_list(numerical_list, exponent=2):\n",
    "\n",
    "    # create a new empty list\n",
    "    # loop through all the elements in numerical_list\n",
    "    # for each element calculate element ** exponent\n",
    "    # append it to the new list \n",
    "\n",
    "    return list()\n",
    "\n",
    "assert type(exponent_a_list([1,2,4], 2)) == list, \"output type not a list\"\n",
    "assert exponent_a_list([1, 2, 4, 7], 2) == [1, 4, 16, 49], \"incorrect output for exponent = 2\"\n",
    "assert exponent_a_list([1, 2, 3], 3) == [1, 8, 27], \"incorrect output for exponent = 3\""
   ]
  },
  {
   "cell_type": "markdown",
   "metadata": {},
   "source": [
    "4. Write code and test frequently.\n",
    "\n",
    "Here is where we fill in our function.\n",
    "\n",
    "As you work on the code, more and more tests of the tests that you wrote will pass until finally, all your assert statements no longer produce any error messages."
   ]
  },
  {
   "cell_type": "code",
   "execution_count": 46,
   "metadata": {},
   "outputs": [],
   "source": [
    "def exponent_a_list(numerical_list, exponent=2):\n",
    "    new_exponent_list = list()\n",
    "\n",
    "    for number in numerical_list:\n",
    "        new_exponent_list.append(number ** exponent)\n",
    "\n",
    "    return new_exponent_list\n",
    "\n",
    "assert type(exponent_a_list([1,2,4], 2)) == list, \"output type not a list\"\n",
    "assert exponent_a_list([1, 2, 4, 7], 2) == [1, 4, 16, 49], \"incorrect output for exponent = 2\"\n",
    "assert exponent_a_list([1, 2, 3], 3) == [1, 8, 27], \"incorrect output for exponent = 3\"\n"
   ]
  },
  {
   "cell_type": "markdown",
   "metadata": {},
   "source": [
    "5. Write documentation.\n",
    "\n",
    "Finally, we finish writing our function with a docstring."
   ]
  },
  {
   "cell_type": "code",
   "execution_count": null,
   "metadata": {},
   "outputs": [],
   "source": [
    "def exponent_a_list(numerical_list, exponent=2):\n",
    "    \"\"\" Creates a new list containing specified exponential values of the input list. \n",
    "\n",
    "    Parameters\n",
    "    ----------\n",
    "    numerical_list : list\n",
    "        The list from which to calculate exponential values from\n",
    "    exponent : int or float, optional\n",
    "        The exponent value (the default is 2, which implies the square).\n",
    "\n",
    "    Returns\n",
    "    -------\n",
    "    new_exponent_list : list\n",
    "        A new list containing the exponential value specified of each of\n",
    "        the elements from the input list \n",
    "\n",
    "    Examples\n",
    "    --------\n",
    "    >>> exponent_a_list([1, 2, 3, 4])\n",
    "    [1, 4, 9, 16]\n",
    "    \"\"\"\n",
    "    new_exponent_list = list()\n",
    "    for number in numerical_list:\n",
    "        new_exponent_list.append(number ** exponent)\n",
    "    return new_exponent_list\n"
   ]
  },
  {
   "cell_type": "markdown",
   "metadata": {},
   "source": [
    "This has been quite a full module!\n",
    "\n",
    "We’ve learned how to make functions, how to handle errors gracefully, how to test our functions, and write the necessary documentation to keep our code comprehensible.\n",
    "\n",
    "These skills will all contribute to writing effective code.\n",
    "\n",
    "One thing we have not discussed yet is the actual code within a function.\n",
    "\n",
    "What makes a function useful?\n",
    "\n",
    "Is a function more useful when it performs more operations?\n",
    "\n",
    "Does adding parameters make your functions more or less useful?\n",
    "\n",
    "These are all questions we need to think about when writing functions.\n",
    "\n",
    "We are going to list some habits to adopt when writing and designing your functions."
   ]
  },
  {
   "cell_type": "markdown",
   "metadata": {},
   "source": [
    "Hard coding is the process of embedding values directly into your code without saving them in variables\n",
    "\n",
    "When we hardcode values into our code, it decreases flexibility.\n",
    "\n",
    "Being inflexible can cause you to end up writing more functions and/or violating the DRY principle.\n",
    "\n",
    "This, in turn, can decrease the readability and makes code problematic to maintain. In short, hard coding is a breeding ground for bugs.\n",
    "\n",
    "Remember our function squares_a_list()?\n",
    "\n",
    "In this function, we “hard-coded” in 2 when we calculated number ** 2.\n",
    "\n",
    "There are a couple of approaches to improving the situation. One is to assign 2 to a variable in the function before doing this calculation. That way, if you need to reuse that number, later on, you can just refer to the variable; and if you need to change the 2 to a 3, you only need to change it in one place. Another benefit is that you’re giving it a variable name, which acts as a little bit of documentation.\n",
    "\n",
    "The other approach is to turn the value into an argument like we did when we made exponent_a_list().\n",
    "\n",
    "This new function now gives us more flexibility with our code.\n",
    "\n",
    "If we now encounter a situation where we need to calculate each element to a different exponent like 4 or 0, we can do so without writing new code and potentially making a new error in doing so.\n",
    "\n",
    "We reduce our long term workload.\n",
    "\n",
    "This version is more maintainable code, but it doesn’t give the function caller any flexibility. What you decide depends on how you expect your function to be used."
   ]
  },
  {
   "cell_type": "code",
   "execution_count": 47,
   "metadata": {},
   "outputs": [],
   "source": [
    "def squares_a_list(numerical_list):\n",
    "    new_squared_list = list()\n",
    "\n",
    "    for number in numerical_list:\n",
    "        new_squared_list.append(number ** 2)\n",
    "\n",
    "    return new_squared_list"
   ]
  },
  {
   "cell_type": "code",
   "execution_count": null,
   "metadata": {},
   "outputs": [],
   "source": [
    "def exponent_a_list(numerical_list, exponent):\n",
    "    new_exponent_list = list()\n",
    "\n",
    "    for number in numerical_list:\n",
    "        new_exponent_list.append(number ** exponent)\n",
    "\n",
    "    return new_exponent_list"
   ]
  },
  {
   "cell_type": "markdown",
   "metadata": {},
   "source": [
    "Although it may seem useful when a function acts as a one-stop-shop that does everything you want in a single function, this also limits your ability to reuse code that lies within it.\n",
    "\n",
    "Ideally, functions should serve a single purpose.\n",
    "\n",
    "For example, let’s say we have a function that reads in a csv, finds the mean of each group in a column, and plots a specified variable.\n",
    "\n",
    "Although this may seem nice, we may want to break this up into multiple smaller functions. For example, what if we don’t want the plot? Perhaps the plot is just something we wanted a single time, and now we are committed to it for each time we use the function.\n",
    "\n",
    "Another problem with this function is that the means are only printed and not returned. Thus, we have no way of accessing the statistics to use further in our code (we would have to repeat ourselves and rewrite "
   ]
  },
  {
   "cell_type": "code",
   "execution_count": 49,
   "metadata": {},
   "outputs": [
    {
     "data": {
      "text/html": [
       "\n",
       "<div id=\"altair-viz-b5170fcc13af431d9acce84bc20cf425\"></div>\n",
       "<script type=\"text/javascript\">\n",
       "  (function(spec, embedOpt){\n",
       "    let outputDiv = document.currentScript.previousElementSibling;\n",
       "    if (outputDiv.id !== \"altair-viz-b5170fcc13af431d9acce84bc20cf425\") {\n",
       "      outputDiv = document.getElementById(\"altair-viz-b5170fcc13af431d9acce84bc20cf425\");\n",
       "    }\n",
       "    const paths = {\n",
       "      \"vega\": \"https://cdn.jsdelivr.net/npm//vega@5?noext\",\n",
       "      \"vega-lib\": \"https://cdn.jsdelivr.net/npm//vega-lib?noext\",\n",
       "      \"vega-lite\": \"https://cdn.jsdelivr.net/npm//vega-lite@4.8.1?noext\",\n",
       "      \"vega-embed\": \"https://cdn.jsdelivr.net/npm//vega-embed@6?noext\",\n",
       "    };\n",
       "\n",
       "    function loadScript(lib) {\n",
       "      return new Promise(function(resolve, reject) {\n",
       "        var s = document.createElement('script');\n",
       "        s.src = paths[lib];\n",
       "        s.async = true;\n",
       "        s.onload = () => resolve(paths[lib]);\n",
       "        s.onerror = () => reject(`Error loading script: ${paths[lib]}`);\n",
       "        document.getElementsByTagName(\"head\")[0].appendChild(s);\n",
       "      });\n",
       "    }\n",
       "\n",
       "    function showError(err) {\n",
       "      outputDiv.innerHTML = `<div class=\"error\" style=\"color:red;\">${err}</div>`;\n",
       "      throw err;\n",
       "    }\n",
       "\n",
       "    function displayChart(vegaEmbed) {\n",
       "      vegaEmbed(outputDiv, spec, embedOpt)\n",
       "        .catch(err => showError(`Javascript Error: ${err.message}<br>This usually means there's a typo in your chart specification. See the javascript console for the full traceback.`));\n",
       "    }\n",
       "\n",
       "    if(typeof define === \"function\" && define.amd) {\n",
       "      requirejs.config({paths});\n",
       "      require([\"vega-embed\"], displayChart, err => showError(`Error loading script: ${err.message}`));\n",
       "    } else if (typeof vegaEmbed === \"function\") {\n",
       "      displayChart(vegaEmbed);\n",
       "    } else {\n",
       "      loadScript(\"vega\")\n",
       "        .then(() => loadScript(\"vega-lite\"))\n",
       "        .then(() => loadScript(\"vega-embed\"))\n",
       "        .catch(showError)\n",
       "        .then(() => displayChart(vegaEmbed));\n",
       "    }\n",
       "  })({\"config\": {\"view\": {\"continuousWidth\": 400, \"continuousHeight\": 300}}, \"data\": {\"name\": \"data-6af1f88bf12af19ba3f52cfed6ac4c53\"}, \"mark\": \"bar\", \"encoding\": {\"x\": {\"type\": \"nominal\", \"field\": \"mfr\"}, \"y\": {\"type\": \"quantitative\", \"field\": \"rating\"}}, \"height\": 300, \"width\": 500, \"$schema\": \"https://vega.github.io/schema/vega-lite/v4.8.1.json\", \"datasets\": {\"data-6af1f88bf12af19ba3f52cfed6ac4c53\": [{\"mfr\": \"A\", \"calories\": 100.0, \"protein\": 4.0, \"fat\": 1.0, \"sodium\": 0.0, \"fiber\": 0.0, \"carbo\": 16.0, \"sugars\": 3.0, \"potass\": 95.0, \"vitamins\": 25.0, \"shelf\": 2.0, \"weight\": 1.0, \"cups\": 1.0, \"rating\": 54.850917}, {\"mfr\": \"G\", \"calories\": 111.36363636363636, \"protein\": 2.3181818181818183, \"fat\": 1.3636363636363635, \"sodium\": 200.45454545454547, \"fiber\": 1.2727272727272727, \"carbo\": 14.727272727272727, \"sugars\": 7.954545454545454, \"potass\": 85.22727272727273, \"vitamins\": 35.22727272727273, \"shelf\": 2.1363636363636362, \"weight\": 1.049090909090909, \"cups\": 0.875, \"rating\": 34.48585168181818}, {\"mfr\": \"K\", \"calories\": 108.69565217391305, \"protein\": 2.652173913043478, \"fat\": 0.6086956521739131, \"sodium\": 174.7826086956522, \"fiber\": 2.739130434782609, \"carbo\": 15.130434782608695, \"sugars\": 7.565217391304348, \"potass\": 103.04347826086956, \"vitamins\": 34.78260869565217, \"shelf\": 2.347826086956522, \"weight\": 1.0778260869565217, \"cups\": 0.7960869565217392, \"rating\": 44.03846234782609}, {\"mfr\": \"N\", \"calories\": 86.66666666666667, \"protein\": 2.8333333333333335, \"fat\": 0.16666666666666666, \"sodium\": 37.5, \"fiber\": 4.0, \"carbo\": 16.0, \"sugars\": 1.8333333333333333, \"potass\": 121.0, \"vitamins\": 8.333333333333334, \"shelf\": 1.6666666666666667, \"weight\": 0.9716666666666667, \"cups\": 0.7783333333333333, \"rating\": 67.96856716666666}, {\"mfr\": \"P\", \"calories\": 108.88888888888889, \"protein\": 2.4444444444444446, \"fat\": 0.8888888888888888, \"sodium\": 146.11111111111111, \"fiber\": 2.7777777777777777, \"carbo\": 13.222222222222221, \"sugars\": 8.777777777777779, \"potass\": 113.88888888888889, \"vitamins\": 25.0, \"shelf\": 2.4444444444444446, \"weight\": 1.0644444444444445, \"cups\": 0.7144444444444444, \"rating\": 41.70574411111111}, {\"mfr\": \"Q\", \"calories\": 95.0, \"protein\": 2.625, \"fat\": 1.75, \"sodium\": 92.5, \"fiber\": 1.3375, \"carbo\": 10.25, \"sugars\": 5.5, \"potass\": 74.375, \"vitamins\": 12.5, \"shelf\": 2.375, \"weight\": 0.875, \"cups\": 0.82375, \"rating\": 42.915989875}, {\"mfr\": \"R\", \"calories\": 115.0, \"protein\": 2.5, \"fat\": 1.25, \"sodium\": 198.125, \"fiber\": 1.875, \"carbo\": 17.625, \"sugars\": 6.125, \"potass\": 89.5, \"vitamins\": 25.0, \"shelf\": 2.0, \"weight\": 1.0, \"cups\": 0.87125, \"rating\": 41.542997125}]}}, {\"mode\": \"vega-lite\"});\n",
       "</script>"
      ],
      "text/plain": [
       "alt.Chart(...)"
      ]
     },
     "execution_count": 49,
     "metadata": {},
     "output_type": "execute_result"
    }
   ],
   "source": [
    "import altair as alt\n",
    "\n",
    "def load_filter_and_average(file, grouping_column, ploting_column):\n",
    "    df = pd.read_csv(file)\n",
    "    source = df.groupby(grouping_column).mean().reset_index()\n",
    "    chart = alt.Chart(source, width = 500, height = 300).mark_bar().encode(\n",
    "                      x=alt.X(grouping_column),\n",
    "                      y=alt.Y(ploting_column)\n",
    "            )\n",
    "    return chart\n",
    "bad_idea = load_filter_and_average('cereal.csv', 'mfr', 'rating')\n",
    "bad_idea"
   ]
  },
  {
   "cell_type": "markdown",
   "metadata": {},
   "source": [
    "In this case, you want to simplify the function.\n",
    "\n",
    "Having a function that only calculates the mean values of the groups in the specified column is much more usable.\n",
    "\n",
    "A preferred function would look something like this, where the input is a dataframe we have already read in, and the output is the dataframe of mean values for all the columns."
   ]
  },
  {
   "cell_type": "code",
   "execution_count": 50,
   "metadata": {},
   "outputs": [
    {
     "ename": "NameError",
     "evalue": "name 'cereal' is not defined",
     "output_type": "error",
     "traceback": [
      "\u001b[1;31m---------------------------------------------------------------------------\u001b[0m",
      "\u001b[1;31mNameError\u001b[0m                                 Traceback (most recent call last)",
      "\u001b[1;32m<ipython-input-50-fb80ef9ba602>\u001b[0m in \u001b[0;36m<module>\u001b[1;34m\u001b[0m\n\u001b[0;32m      3\u001b[0m     \u001b[1;32mreturn\u001b[0m \u001b[0mgrouped_mean\u001b[0m\u001b[1;33m\u001b[0m\u001b[1;33m\u001b[0m\u001b[0m\n\u001b[0;32m      4\u001b[0m \u001b[1;33m\u001b[0m\u001b[0m\n\u001b[1;32m----> 5\u001b[1;33m \u001b[0mcereal_mfr\u001b[0m \u001b[1;33m=\u001b[0m \u001b[0mgrouped_means\u001b[0m\u001b[1;33m(\u001b[0m\u001b[0mcereal\u001b[0m\u001b[1;33m,\u001b[0m \u001b[1;34m'mfr'\u001b[0m\u001b[1;33m)\u001b[0m\u001b[1;33m\u001b[0m\u001b[1;33m\u001b[0m\u001b[0m\n\u001b[0m\u001b[0;32m      6\u001b[0m \u001b[0mcereal_mfr\u001b[0m\u001b[1;33m\u001b[0m\u001b[1;33m\u001b[0m\u001b[0m\n",
      "\u001b[1;31mNameError\u001b[0m: name 'cereal' is not defined"
     ]
    }
   ],
   "source": [
    "def grouped_means(df, grouping_column):\n",
    "    grouped_mean = df.groupby(grouping_column).mean().reset_index()\n",
    "    return grouped_mean\n",
    "\n",
    "cereal_mfr = grouped_means(cereal, 'mfr')\n",
    "cereal_mfr"
   ]
  },
  {
   "cell_type": "code",
   "execution_count": null,
   "metadata": {},
   "outputs": [],
   "source": [
    "If we wanted, we could then make a second function that creates the desired plot part of the previous function."
   ]
  },
  {
   "cell_type": "code",
   "execution_count": 51,
   "metadata": {},
   "outputs": [
    {
     "ename": "NameError",
     "evalue": "name 'cereal_mfr' is not defined",
     "output_type": "error",
     "traceback": [
      "\u001b[1;31m---------------------------------------------------------------------------\u001b[0m",
      "\u001b[1;31mNameError\u001b[0m                                 Traceback (most recent call last)",
      "\u001b[1;32m<ipython-input-51-feda23e36443>\u001b[0m in \u001b[0;36m<module>\u001b[1;34m\u001b[0m\n\u001b[0;32m      6\u001b[0m     \u001b[1;32mreturn\u001b[0m \u001b[0mchart\u001b[0m\u001b[1;33m\u001b[0m\u001b[1;33m\u001b[0m\u001b[0m\n\u001b[0;32m      7\u001b[0m \u001b[1;33m\u001b[0m\u001b[0m\n\u001b[1;32m----> 8\u001b[1;33m \u001b[0mplot1\u001b[0m \u001b[1;33m=\u001b[0m \u001b[0mplot_mean\u001b[0m\u001b[1;33m(\u001b[0m\u001b[0mcereal_mfr\u001b[0m\u001b[1;33m,\u001b[0m \u001b[1;34m'mfr'\u001b[0m\u001b[1;33m,\u001b[0m \u001b[1;34m'rating'\u001b[0m\u001b[1;33m)\u001b[0m\u001b[1;33m\u001b[0m\u001b[1;33m\u001b[0m\u001b[0m\n\u001b[0m\u001b[0;32m      9\u001b[0m \u001b[0mplot1\u001b[0m\u001b[1;33m\u001b[0m\u001b[1;33m\u001b[0m\u001b[0m\n",
      "\u001b[1;31mNameError\u001b[0m: name 'cereal_mfr' is not defined"
     ]
    }
   ],
   "source": [
    "def plot_mean(df, grouping_column, ploting_column):\n",
    "    chart = alt.Chart(df, width = 500, height = 300).mark_bar().encode(\n",
    "                      x=alt.X(grouping_column),\n",
    "                      y=alt.Y(ploting_column)\n",
    "            )\n",
    "    return chart\n",
    "\n",
    "plot1 = plot_mean(cereal_mfr, 'mfr', 'rating')\n",
    "plot1"
   ]
  },
  {
   "cell_type": "markdown",
   "metadata": {},
   "source": [
    "3. Return a single object\n",
    "\n",
    "For the most part, we have only lightly touched on the fact that functions can return multiple objects, and it’s with good reason.\n",
    "\n",
    "Although functions are capable of returning multiple objects, that doesn’t mean that it’s the best option.\n",
    "\n",
    "For instance, what if we converted our function load_filter_and_average() so that it returns a dataframe and a plot."
   ]
  },
  {
   "cell_type": "code",
   "execution_count": 53,
   "metadata": {},
   "outputs": [
    {
     "data": {
      "text/plain": [
       "(alt.Chart(...),\n",
       "   mfr    calories   protein       fat      sodium     fiber      carbo  \\\n",
       " 0   A  100.000000  4.000000  1.000000    0.000000  0.000000  16.000000   \n",
       " 1   G  111.363636  2.318182  1.363636  200.454545  1.272727  14.727273   \n",
       " 2   K  108.695652  2.652174  0.608696  174.782609  2.739130  15.130435   \n",
       " 3   N   86.666667  2.833333  0.166667   37.500000  4.000000  16.000000   \n",
       " 4   P  108.888889  2.444444  0.888889  146.111111  2.777778  13.222222   \n",
       " 5   Q   95.000000  2.625000  1.750000   92.500000  1.337500  10.250000   \n",
       " 6   R  115.000000  2.500000  1.250000  198.125000  1.875000  17.625000   \n",
       " \n",
       "      sugars      potass   vitamins     shelf    weight      cups     rating  \n",
       " 0  3.000000   95.000000  25.000000  2.000000  1.000000  1.000000  54.850917  \n",
       " 1  7.954545   85.227273  35.227273  2.136364  1.049091  0.875000  34.485852  \n",
       " 2  7.565217  103.043478  34.782609  2.347826  1.077826  0.796087  44.038462  \n",
       " 3  1.833333  121.000000   8.333333  1.666667  0.971667  0.778333  67.968567  \n",
       " 4  8.777778  113.888889  25.000000  2.444444  1.064444  0.714444  41.705744  \n",
       " 5  5.500000   74.375000  12.500000  2.375000  0.875000  0.823750  42.915990  \n",
       " 6  6.125000   89.500000  25.000000  2.000000  1.000000  0.871250  41.542997  )"
      ]
     },
     "execution_count": 53,
     "metadata": {},
     "output_type": "execute_result"
    }
   ],
   "source": [
    "def load_filter_and_average(file, grouping_column, ploting_column):\n",
    "    df = pd.read_csv(file)\n",
    "    source = df.groupby(grouping_column).mean().reset_index()\n",
    "    chart = alt.Chart(source, width = 500, height = 300).mark_bar().encode(\n",
    "                      x=alt.X(grouping_column),\n",
    "                      y=alt.Y(ploting_column)\n",
    "            )\n",
    "    return chart, source\n",
    "\n",
    "another_bad_idea = load_filter_and_average('cereal.csv', 'mfr', 'rating')\n",
    "another_bad_idea"
   ]
  },
  {
   "cell_type": "markdown",
   "metadata": {},
   "source": [
    "Since our function returns a tuple, we can obtain the plot by selecting the first element of the output.\n",
    "\n",
    "This can be quite confusing. We would recommend separating the code into two functions and can have each one return a single object.\n",
    "\n",
    "It’s best to think of programming functions in the same way as mathematical functions where most times, mathematical functions return a single value."
   ]
  },
  {
   "cell_type": "code",
   "execution_count": 54,
   "metadata": {},
   "outputs": [
    {
     "data": {
      "text/html": [
       "\n",
       "<div id=\"altair-viz-bdbcfd6bf57e440bbb214a6df16730c6\"></div>\n",
       "<script type=\"text/javascript\">\n",
       "  (function(spec, embedOpt){\n",
       "    let outputDiv = document.currentScript.previousElementSibling;\n",
       "    if (outputDiv.id !== \"altair-viz-bdbcfd6bf57e440bbb214a6df16730c6\") {\n",
       "      outputDiv = document.getElementById(\"altair-viz-bdbcfd6bf57e440bbb214a6df16730c6\");\n",
       "    }\n",
       "    const paths = {\n",
       "      \"vega\": \"https://cdn.jsdelivr.net/npm//vega@5?noext\",\n",
       "      \"vega-lib\": \"https://cdn.jsdelivr.net/npm//vega-lib?noext\",\n",
       "      \"vega-lite\": \"https://cdn.jsdelivr.net/npm//vega-lite@4.8.1?noext\",\n",
       "      \"vega-embed\": \"https://cdn.jsdelivr.net/npm//vega-embed@6?noext\",\n",
       "    };\n",
       "\n",
       "    function loadScript(lib) {\n",
       "      return new Promise(function(resolve, reject) {\n",
       "        var s = document.createElement('script');\n",
       "        s.src = paths[lib];\n",
       "        s.async = true;\n",
       "        s.onload = () => resolve(paths[lib]);\n",
       "        s.onerror = () => reject(`Error loading script: ${paths[lib]}`);\n",
       "        document.getElementsByTagName(\"head\")[0].appendChild(s);\n",
       "      });\n",
       "    }\n",
       "\n",
       "    function showError(err) {\n",
       "      outputDiv.innerHTML = `<div class=\"error\" style=\"color:red;\">${err}</div>`;\n",
       "      throw err;\n",
       "    }\n",
       "\n",
       "    function displayChart(vegaEmbed) {\n",
       "      vegaEmbed(outputDiv, spec, embedOpt)\n",
       "        .catch(err => showError(`Javascript Error: ${err.message}<br>This usually means there's a typo in your chart specification. See the javascript console for the full traceback.`));\n",
       "    }\n",
       "\n",
       "    if(typeof define === \"function\" && define.amd) {\n",
       "      requirejs.config({paths});\n",
       "      require([\"vega-embed\"], displayChart, err => showError(`Error loading script: ${err.message}`));\n",
       "    } else if (typeof vegaEmbed === \"function\") {\n",
       "      displayChart(vegaEmbed);\n",
       "    } else {\n",
       "      loadScript(\"vega\")\n",
       "        .then(() => loadScript(\"vega-lite\"))\n",
       "        .then(() => loadScript(\"vega-embed\"))\n",
       "        .catch(showError)\n",
       "        .then(() => displayChart(vegaEmbed));\n",
       "    }\n",
       "  })({\"config\": {\"view\": {\"continuousWidth\": 400, \"continuousHeight\": 300}}, \"data\": {\"name\": \"data-6af1f88bf12af19ba3f52cfed6ac4c53\"}, \"mark\": \"bar\", \"encoding\": {\"x\": {\"type\": \"nominal\", \"field\": \"mfr\"}, \"y\": {\"type\": \"quantitative\", \"field\": \"rating\"}}, \"height\": 300, \"width\": 500, \"$schema\": \"https://vega.github.io/schema/vega-lite/v4.8.1.json\", \"datasets\": {\"data-6af1f88bf12af19ba3f52cfed6ac4c53\": [{\"mfr\": \"A\", \"calories\": 100.0, \"protein\": 4.0, \"fat\": 1.0, \"sodium\": 0.0, \"fiber\": 0.0, \"carbo\": 16.0, \"sugars\": 3.0, \"potass\": 95.0, \"vitamins\": 25.0, \"shelf\": 2.0, \"weight\": 1.0, \"cups\": 1.0, \"rating\": 54.850917}, {\"mfr\": \"G\", \"calories\": 111.36363636363636, \"protein\": 2.3181818181818183, \"fat\": 1.3636363636363635, \"sodium\": 200.45454545454547, \"fiber\": 1.2727272727272727, \"carbo\": 14.727272727272727, \"sugars\": 7.954545454545454, \"potass\": 85.22727272727273, \"vitamins\": 35.22727272727273, \"shelf\": 2.1363636363636362, \"weight\": 1.049090909090909, \"cups\": 0.875, \"rating\": 34.48585168181818}, {\"mfr\": \"K\", \"calories\": 108.69565217391305, \"protein\": 2.652173913043478, \"fat\": 0.6086956521739131, \"sodium\": 174.7826086956522, \"fiber\": 2.739130434782609, \"carbo\": 15.130434782608695, \"sugars\": 7.565217391304348, \"potass\": 103.04347826086956, \"vitamins\": 34.78260869565217, \"shelf\": 2.347826086956522, \"weight\": 1.0778260869565217, \"cups\": 0.7960869565217392, \"rating\": 44.03846234782609}, {\"mfr\": \"N\", \"calories\": 86.66666666666667, \"protein\": 2.8333333333333335, \"fat\": 0.16666666666666666, \"sodium\": 37.5, \"fiber\": 4.0, \"carbo\": 16.0, \"sugars\": 1.8333333333333333, \"potass\": 121.0, \"vitamins\": 8.333333333333334, \"shelf\": 1.6666666666666667, \"weight\": 0.9716666666666667, \"cups\": 0.7783333333333333, \"rating\": 67.96856716666666}, {\"mfr\": \"P\", \"calories\": 108.88888888888889, \"protein\": 2.4444444444444446, \"fat\": 0.8888888888888888, \"sodium\": 146.11111111111111, \"fiber\": 2.7777777777777777, \"carbo\": 13.222222222222221, \"sugars\": 8.777777777777779, \"potass\": 113.88888888888889, \"vitamins\": 25.0, \"shelf\": 2.4444444444444446, \"weight\": 1.0644444444444445, \"cups\": 0.7144444444444444, \"rating\": 41.70574411111111}, {\"mfr\": \"Q\", \"calories\": 95.0, \"protein\": 2.625, \"fat\": 1.75, \"sodium\": 92.5, \"fiber\": 1.3375, \"carbo\": 10.25, \"sugars\": 5.5, \"potass\": 74.375, \"vitamins\": 12.5, \"shelf\": 2.375, \"weight\": 0.875, \"cups\": 0.82375, \"rating\": 42.915989875}, {\"mfr\": \"R\", \"calories\": 115.0, \"protein\": 2.5, \"fat\": 1.25, \"sodium\": 198.125, \"fiber\": 1.875, \"carbo\": 17.625, \"sugars\": 6.125, \"potass\": 89.5, \"vitamins\": 25.0, \"shelf\": 2.0, \"weight\": 1.0, \"cups\": 0.87125, \"rating\": 41.542997125}]}}, {\"mode\": \"vega-lite\"});\n",
       "</script>"
      ],
      "text/plain": [
       "alt.Chart(...)"
      ]
     },
     "execution_count": 54,
     "metadata": {},
     "output_type": "execute_result"
    }
   ],
   "source": [
    "another_bad_idea[0]"
   ]
  },
  {
   "cell_type": "markdown",
   "metadata": {},
   "source": [
    "It’s generally bad form to include objects in a function that were created outside of it.\n",
    "\n",
    "Take our grouped_means() function.\n",
    "\n",
    "What if instead of including df as an input argument, we just used cereal that we loaded earlier?\n",
    "\n",
    "The number one problem with doing this is now our function only works on the cereal data - it’s not usable on other data."
   ]
  },
  {
   "cell_type": "code",
   "execution_count": null,
   "metadata": {},
   "outputs": [],
   "source": [
    "def grouped_means(df, grouping_column):\n",
    "    grouped_mean = df.groupby(grouping_column).mean().reset_index()\n",
    "    return grouped_mean"
   ]
  },
  {
   "cell_type": "code",
   "execution_count": null,
   "metadata": {},
   "outputs": [],
   "source": [
    "cereal = pd.read_csv('cereal.csv')\n",
    "\n",
    "def bad_grouped_means(grouping_column):\n",
    "    grouped_mean = cereal.groupby(grouping_column).mean().reset_index()\n",
    "    return grouped_mean"
   ]
  },
  {
   "cell_type": "markdown",
   "metadata": {},
   "source": [
    "Ok, let’s say we still use it, then what happens?\n",
    "\n",
    "Although it does work, global variables have the opportunity to be altered in the global environment.\n",
    "\n",
    "When we change the global variable outside the function and try to use the function again, it will refer to the new global variable and potentially no longer work.\n",
    "\n",
    "Of course, like in any case, these habits are suggestions and not strict rules.\n",
    "\n",
    "There will be times where adhering to one of these may not be possible or will hinder your code instead of enhancing it.\n",
    "\n",
    "The rule of thumb is to ask yourself how helpful is your function if you or someone else wishes to reuse it."
   ]
  }
 ],
 "metadata": {
  "kernelspec": {
   "display_name": "Python 3",
   "language": "python",
   "name": "python3"
  },
  "language_info": {
   "codemirror_mode": {
    "name": "ipython",
    "version": 3
   },
   "file_extension": ".py",
   "mimetype": "text/x-python",
   "name": "python",
   "nbconvert_exporter": "python",
   "pygments_lexer": "ipython3",
   "version": "3.8.5"
  }
 },
 "nbformat": 4,
 "nbformat_minor": 4
}
